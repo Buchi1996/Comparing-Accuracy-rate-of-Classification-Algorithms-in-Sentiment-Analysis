{
  "nbformat": 4,
  "nbformat_minor": 0,
  "metadata": {
    "colab": {
      "name": "Models_Sentiment.ipynb",
      "provenance": [],
      "mount_file_id": "1vauNAPeTJSmCwFMLieJv0LHCbnL5av4i",
      "authorship_tag": "ABX9TyMzCpdhexUnczfWjfX6klJP",
      "include_colab_link": true
    },
    "kernelspec": {
      "name": "python3",
      "display_name": "Python 3"
    },
    "language_info": {
      "name": "python"
    }
  },
  "cells": [
    {
      "cell_type": "markdown",
      "metadata": {
        "id": "view-in-github",
        "colab_type": "text"
      },
      "source": [
        "<a href=\"https://colab.research.google.com/github/Buchi1996/Comparing-Accuracy-rate-of-Classification-Algorithms-in-Sentiment-Analysis/blob/main/Models_Sentiment.ipynb\" target=\"_parent\"><img src=\"https://colab.research.google.com/assets/colab-badge.svg\" alt=\"Open In Colab\"/></a>"
      ]
    },
    {
      "cell_type": "code",
      "execution_count": null,
      "metadata": {
        "id": "v8ladGsn7P2u"
      },
      "outputs": [],
      "source": [
        "import numpy as np\n",
        "import pandas as pd\n",
        "from sklearn.metrics import classification_report, confusion_matrix\n",
        "from sklearn import metrics\n",
        "from sklearn.ensemble import RandomForestClassifier\n",
        "#import pandas as pd    # to load dataset\n",
        "#import numpy as np     # for mathematic equation\n",
        "from nltk.corpus import stopwords   # to get collection of stopwords\n",
        "from sklearn.model_selection import train_test_split       # for splitting dataset\n",
        "from tensorflow.keras.preprocessing.text import Tokenizer  # to encode text to int\n",
        "from tensorflow.keras.preprocessing.sequence import pad_sequences   # to do padding or truncating\n",
        "from tensorflow.keras.models import Sequential     # the model\n",
        "from tensorflow.keras.layers import Embedding, LSTM, Dense # layers of the architecture\n",
        "from tensorflow.keras.callbacks import ModelCheckpoint   # save model\n",
        "from tensorflow.keras.models import load_model   # load saved model\n",
        "import re\n",
        "import tensorflow as tf\n",
        "from sklearn.neighbors import KNeighborsClassifier\n",
        "#import pandas as pd"
      ]
    },
    {
      "cell_type": "code",
      "source": [
        "from google.colab import drive\n",
        "drive.mount('/content/drive')"
      ],
      "metadata": {
        "id": "SGi239v2PqBy",
        "colab": {
          "base_uri": "https://localhost:8080/"
        },
        "outputId": "b65d0236-f847-4fef-f8fe-6a04253106b3"
      },
      "execution_count": null,
      "outputs": [
        {
          "output_type": "stream",
          "name": "stdout",
          "text": [
            "Drive already mounted at /content/drive; to attempt to forcibly remount, call drive.mount(\"/content/drive\", force_remount=True).\n"
          ]
        }
      ]
    },
    {
      "cell_type": "code",
      "source": [
        "Bi_df = pd.read_csv ('Bfile0.csv')\n",
        "#Tr_df = pd.read_csv ('Tfile1.csv')\n",
        "Bi_df.head()"
      ],
      "metadata": {
        "colab": {
          "base_uri": "https://localhost:8080/",
          "height": 416
        },
        "id": "DWJgmd7SDMLg",
        "outputId": "ccf3697d-9780-4adb-b010-80920e05a198"
      },
      "execution_count": null,
      "outputs": [
        {
          "output_type": "error",
          "ename": "FileNotFoundError",
          "evalue": "ignored",
          "traceback": [
            "\u001b[0;31m---------------------------------------------------------------------------\u001b[0m",
            "\u001b[0;31mFileNotFoundError\u001b[0m                         Traceback (most recent call last)",
            "\u001b[0;32m<ipython-input-5-7f397352164c>\u001b[0m in \u001b[0;36m<module>\u001b[0;34m()\u001b[0m\n\u001b[0;32m----> 1\u001b[0;31m \u001b[0mBi_df\u001b[0m \u001b[0;34m=\u001b[0m \u001b[0mpd\u001b[0m\u001b[0;34m.\u001b[0m\u001b[0mread_csv\u001b[0m \u001b[0;34m(\u001b[0m\u001b[0;34m'Bfile0.csv'\u001b[0m\u001b[0;34m)\u001b[0m\u001b[0;34m\u001b[0m\u001b[0;34m\u001b[0m\u001b[0m\n\u001b[0m\u001b[1;32m      2\u001b[0m \u001b[0;31m#Tr_df = pd.read_csv ('Tfile1.csv')\u001b[0m\u001b[0;34m\u001b[0m\u001b[0;34m\u001b[0m\u001b[0;34m\u001b[0m\u001b[0m\n\u001b[1;32m      3\u001b[0m \u001b[0mBi_df\u001b[0m\u001b[0;34m.\u001b[0m\u001b[0mhead\u001b[0m\u001b[0;34m(\u001b[0m\u001b[0;34m)\u001b[0m\u001b[0;34m\u001b[0m\u001b[0;34m\u001b[0m\u001b[0m\n",
            "\u001b[0;32m/usr/local/lib/python3.7/dist-packages/pandas/io/parsers.py\u001b[0m in \u001b[0;36mread_csv\u001b[0;34m(filepath_or_buffer, sep, delimiter, header, names, index_col, usecols, squeeze, prefix, mangle_dupe_cols, dtype, engine, converters, true_values, false_values, skipinitialspace, skiprows, skipfooter, nrows, na_values, keep_default_na, na_filter, verbose, skip_blank_lines, parse_dates, infer_datetime_format, keep_date_col, date_parser, dayfirst, cache_dates, iterator, chunksize, compression, thousands, decimal, lineterminator, quotechar, quoting, doublequote, escapechar, comment, encoding, dialect, error_bad_lines, warn_bad_lines, delim_whitespace, low_memory, memory_map, float_precision)\u001b[0m\n\u001b[1;32m    686\u001b[0m     )\n\u001b[1;32m    687\u001b[0m \u001b[0;34m\u001b[0m\u001b[0m\n\u001b[0;32m--> 688\u001b[0;31m     \u001b[0;32mreturn\u001b[0m \u001b[0m_read\u001b[0m\u001b[0;34m(\u001b[0m\u001b[0mfilepath_or_buffer\u001b[0m\u001b[0;34m,\u001b[0m \u001b[0mkwds\u001b[0m\u001b[0;34m)\u001b[0m\u001b[0;34m\u001b[0m\u001b[0;34m\u001b[0m\u001b[0m\n\u001b[0m\u001b[1;32m    689\u001b[0m \u001b[0;34m\u001b[0m\u001b[0m\n\u001b[1;32m    690\u001b[0m \u001b[0;34m\u001b[0m\u001b[0m\n",
            "\u001b[0;32m/usr/local/lib/python3.7/dist-packages/pandas/io/parsers.py\u001b[0m in \u001b[0;36m_read\u001b[0;34m(filepath_or_buffer, kwds)\u001b[0m\n\u001b[1;32m    452\u001b[0m \u001b[0;34m\u001b[0m\u001b[0m\n\u001b[1;32m    453\u001b[0m     \u001b[0;31m# Create the parser.\u001b[0m\u001b[0;34m\u001b[0m\u001b[0;34m\u001b[0m\u001b[0;34m\u001b[0m\u001b[0m\n\u001b[0;32m--> 454\u001b[0;31m     \u001b[0mparser\u001b[0m \u001b[0;34m=\u001b[0m \u001b[0mTextFileReader\u001b[0m\u001b[0;34m(\u001b[0m\u001b[0mfp_or_buf\u001b[0m\u001b[0;34m,\u001b[0m \u001b[0;34m**\u001b[0m\u001b[0mkwds\u001b[0m\u001b[0;34m)\u001b[0m\u001b[0;34m\u001b[0m\u001b[0;34m\u001b[0m\u001b[0m\n\u001b[0m\u001b[1;32m    455\u001b[0m \u001b[0;34m\u001b[0m\u001b[0m\n\u001b[1;32m    456\u001b[0m     \u001b[0;32mif\u001b[0m \u001b[0mchunksize\u001b[0m \u001b[0;32mor\u001b[0m \u001b[0miterator\u001b[0m\u001b[0;34m:\u001b[0m\u001b[0;34m\u001b[0m\u001b[0;34m\u001b[0m\u001b[0m\n",
            "\u001b[0;32m/usr/local/lib/python3.7/dist-packages/pandas/io/parsers.py\u001b[0m in \u001b[0;36m__init__\u001b[0;34m(self, f, engine, **kwds)\u001b[0m\n\u001b[1;32m    946\u001b[0m             \u001b[0mself\u001b[0m\u001b[0;34m.\u001b[0m\u001b[0moptions\u001b[0m\u001b[0;34m[\u001b[0m\u001b[0;34m\"has_index_names\"\u001b[0m\u001b[0;34m]\u001b[0m \u001b[0;34m=\u001b[0m \u001b[0mkwds\u001b[0m\u001b[0;34m[\u001b[0m\u001b[0;34m\"has_index_names\"\u001b[0m\u001b[0;34m]\u001b[0m\u001b[0;34m\u001b[0m\u001b[0;34m\u001b[0m\u001b[0m\n\u001b[1;32m    947\u001b[0m \u001b[0;34m\u001b[0m\u001b[0m\n\u001b[0;32m--> 948\u001b[0;31m         \u001b[0mself\u001b[0m\u001b[0;34m.\u001b[0m\u001b[0m_make_engine\u001b[0m\u001b[0;34m(\u001b[0m\u001b[0mself\u001b[0m\u001b[0;34m.\u001b[0m\u001b[0mengine\u001b[0m\u001b[0;34m)\u001b[0m\u001b[0;34m\u001b[0m\u001b[0;34m\u001b[0m\u001b[0m\n\u001b[0m\u001b[1;32m    949\u001b[0m \u001b[0;34m\u001b[0m\u001b[0m\n\u001b[1;32m    950\u001b[0m     \u001b[0;32mdef\u001b[0m \u001b[0mclose\u001b[0m\u001b[0;34m(\u001b[0m\u001b[0mself\u001b[0m\u001b[0;34m)\u001b[0m\u001b[0;34m:\u001b[0m\u001b[0;34m\u001b[0m\u001b[0;34m\u001b[0m\u001b[0m\n",
            "\u001b[0;32m/usr/local/lib/python3.7/dist-packages/pandas/io/parsers.py\u001b[0m in \u001b[0;36m_make_engine\u001b[0;34m(self, engine)\u001b[0m\n\u001b[1;32m   1178\u001b[0m     \u001b[0;32mdef\u001b[0m \u001b[0m_make_engine\u001b[0m\u001b[0;34m(\u001b[0m\u001b[0mself\u001b[0m\u001b[0;34m,\u001b[0m \u001b[0mengine\u001b[0m\u001b[0;34m=\u001b[0m\u001b[0;34m\"c\"\u001b[0m\u001b[0;34m)\u001b[0m\u001b[0;34m:\u001b[0m\u001b[0;34m\u001b[0m\u001b[0;34m\u001b[0m\u001b[0m\n\u001b[1;32m   1179\u001b[0m         \u001b[0;32mif\u001b[0m \u001b[0mengine\u001b[0m \u001b[0;34m==\u001b[0m \u001b[0;34m\"c\"\u001b[0m\u001b[0;34m:\u001b[0m\u001b[0;34m\u001b[0m\u001b[0;34m\u001b[0m\u001b[0m\n\u001b[0;32m-> 1180\u001b[0;31m             \u001b[0mself\u001b[0m\u001b[0;34m.\u001b[0m\u001b[0m_engine\u001b[0m \u001b[0;34m=\u001b[0m \u001b[0mCParserWrapper\u001b[0m\u001b[0;34m(\u001b[0m\u001b[0mself\u001b[0m\u001b[0;34m.\u001b[0m\u001b[0mf\u001b[0m\u001b[0;34m,\u001b[0m \u001b[0;34m**\u001b[0m\u001b[0mself\u001b[0m\u001b[0;34m.\u001b[0m\u001b[0moptions\u001b[0m\u001b[0;34m)\u001b[0m\u001b[0;34m\u001b[0m\u001b[0;34m\u001b[0m\u001b[0m\n\u001b[0m\u001b[1;32m   1181\u001b[0m         \u001b[0;32melse\u001b[0m\u001b[0;34m:\u001b[0m\u001b[0;34m\u001b[0m\u001b[0;34m\u001b[0m\u001b[0m\n\u001b[1;32m   1182\u001b[0m             \u001b[0;32mif\u001b[0m \u001b[0mengine\u001b[0m \u001b[0;34m==\u001b[0m \u001b[0;34m\"python\"\u001b[0m\u001b[0;34m:\u001b[0m\u001b[0;34m\u001b[0m\u001b[0;34m\u001b[0m\u001b[0m\n",
            "\u001b[0;32m/usr/local/lib/python3.7/dist-packages/pandas/io/parsers.py\u001b[0m in \u001b[0;36m__init__\u001b[0;34m(self, src, **kwds)\u001b[0m\n\u001b[1;32m   2008\u001b[0m         \u001b[0mkwds\u001b[0m\u001b[0;34m[\u001b[0m\u001b[0;34m\"usecols\"\u001b[0m\u001b[0;34m]\u001b[0m \u001b[0;34m=\u001b[0m \u001b[0mself\u001b[0m\u001b[0;34m.\u001b[0m\u001b[0musecols\u001b[0m\u001b[0;34m\u001b[0m\u001b[0;34m\u001b[0m\u001b[0m\n\u001b[1;32m   2009\u001b[0m \u001b[0;34m\u001b[0m\u001b[0m\n\u001b[0;32m-> 2010\u001b[0;31m         \u001b[0mself\u001b[0m\u001b[0;34m.\u001b[0m\u001b[0m_reader\u001b[0m \u001b[0;34m=\u001b[0m \u001b[0mparsers\u001b[0m\u001b[0;34m.\u001b[0m\u001b[0mTextReader\u001b[0m\u001b[0;34m(\u001b[0m\u001b[0msrc\u001b[0m\u001b[0;34m,\u001b[0m \u001b[0;34m**\u001b[0m\u001b[0mkwds\u001b[0m\u001b[0;34m)\u001b[0m\u001b[0;34m\u001b[0m\u001b[0;34m\u001b[0m\u001b[0m\n\u001b[0m\u001b[1;32m   2011\u001b[0m         \u001b[0mself\u001b[0m\u001b[0;34m.\u001b[0m\u001b[0munnamed_cols\u001b[0m \u001b[0;34m=\u001b[0m \u001b[0mself\u001b[0m\u001b[0;34m.\u001b[0m\u001b[0m_reader\u001b[0m\u001b[0;34m.\u001b[0m\u001b[0munnamed_cols\u001b[0m\u001b[0;34m\u001b[0m\u001b[0;34m\u001b[0m\u001b[0m\n\u001b[1;32m   2012\u001b[0m \u001b[0;34m\u001b[0m\u001b[0m\n",
            "\u001b[0;32mpandas/_libs/parsers.pyx\u001b[0m in \u001b[0;36mpandas._libs.parsers.TextReader.__cinit__\u001b[0;34m()\u001b[0m\n",
            "\u001b[0;32mpandas/_libs/parsers.pyx\u001b[0m in \u001b[0;36mpandas._libs.parsers.TextReader._setup_parser_source\u001b[0;34m()\u001b[0m\n",
            "\u001b[0;31mFileNotFoundError\u001b[0m: [Errno 2] No such file or directory: 'Bfile0.csv'"
          ]
        }
      ]
    },
    {
      "cell_type": "code",
      "source": [
        "D = pd.read_csv(\"/content/drive/MyDrive/MASTERS FOLDER/CS855/US_Elections_Data_Downloads/US_elections/LSTM/IMDB Dataset.csv\")"
      ],
      "metadata": {
        "id": "ROBIva-qJodx"
      },
      "execution_count": null,
      "outputs": []
    },
    {
      "cell_type": "code",
      "source": [
        "D.head()"
      ],
      "metadata": {
        "colab": {
          "base_uri": "https://localhost:8080/",
          "height": 206
        },
        "id": "WLqfh_PxKRyw",
        "outputId": "903e25cc-4884-41c1-a297-6ed8a2512489"
      },
      "execution_count": null,
      "outputs": [
        {
          "output_type": "execute_result",
          "data": {
            "text/html": [
              "<div>\n",
              "<style scoped>\n",
              "    .dataframe tbody tr th:only-of-type {\n",
              "        vertical-align: middle;\n",
              "    }\n",
              "\n",
              "    .dataframe tbody tr th {\n",
              "        vertical-align: top;\n",
              "    }\n",
              "\n",
              "    .dataframe thead th {\n",
              "        text-align: right;\n",
              "    }\n",
              "</style>\n",
              "<table border=\"1\" class=\"dataframe\">\n",
              "  <thead>\n",
              "    <tr style=\"text-align: right;\">\n",
              "      <th></th>\n",
              "      <th>review</th>\n",
              "      <th>sentiment</th>\n",
              "    </tr>\n",
              "  </thead>\n",
              "  <tbody>\n",
              "    <tr>\n",
              "      <th>0</th>\n",
              "      <td>One of the other reviewers has mentioned that ...</td>\n",
              "      <td>positive</td>\n",
              "    </tr>\n",
              "    <tr>\n",
              "      <th>1</th>\n",
              "      <td>A wonderful little production. &lt;br /&gt;&lt;br /&gt;The...</td>\n",
              "      <td>positive</td>\n",
              "    </tr>\n",
              "    <tr>\n",
              "      <th>2</th>\n",
              "      <td>I thought this was a wonderful way to spend ti...</td>\n",
              "      <td>positive</td>\n",
              "    </tr>\n",
              "    <tr>\n",
              "      <th>3</th>\n",
              "      <td>Basically there's a family where a little boy ...</td>\n",
              "      <td>negative</td>\n",
              "    </tr>\n",
              "    <tr>\n",
              "      <th>4</th>\n",
              "      <td>Petter Mattei's \"Love in the Time of Money\" is...</td>\n",
              "      <td>positive</td>\n",
              "    </tr>\n",
              "  </tbody>\n",
              "</table>\n",
              "</div>"
            ],
            "text/plain": [
              "                                              review sentiment\n",
              "0  One of the other reviewers has mentioned that ...  positive\n",
              "1  A wonderful little production. <br /><br />The...  positive\n",
              "2  I thought this was a wonderful way to spend ti...  positive\n",
              "3  Basically there's a family where a little boy ...  negative\n",
              "4  Petter Mattei's \"Love in the Time of Money\" is...  positive"
            ]
          },
          "metadata": {},
          "execution_count": 10
        }
      ]
    },
    {
      "cell_type": "code",
      "source": [
        "import nltk\n",
        "nltk.download('stopwords')\n",
        "english_stops = set(stopwords.words('english'))"
      ],
      "metadata": {
        "colab": {
          "base_uri": "https://localhost:8080/"
        },
        "id": "ttbXw4bkKYz4",
        "outputId": "076ceceb-932c-4e8b-c4a1-b0fb2f24d213"
      },
      "execution_count": null,
      "outputs": [
        {
          "output_type": "stream",
          "name": "stdout",
          "text": [
            "[nltk_data] Downloading package stopwords to /root/nltk_data...\n",
            "[nltk_data]   Unzipping corpora/stopwords.zip.\n"
          ]
        }
      ]
    },
    {
      "cell_type": "markdown",
      "source": [
        "**Load and Clean Dataset**"
      ],
      "metadata": {
        "id": "YJzZprHqKcsD"
      }
    },
    {
      "cell_type": "code",
      "source": [
        "def load_dataset():\n",
        "    D_df = pd.read_csv(\"/content/drive/MyDrive/MASTERS FOLDER/CS855/US_Elections_Data_Downloads/US_elections/LSTM/IMDB Dataset.csv\")\n",
        "    x_data = D_df['review']       # Reviews/Input\n",
        "    y_data = D_df['sentiment']    # Sentiment/Output\n",
        "\n",
        "    # PRE-PROCESS REVIEW\n",
        "    x_data = x_data.replace({'<.*?>': ''}, regex = True)          # remove html tag\n",
        "    x_data = x_data.replace({'[^A-Za-z]': ' '}, regex = True)     # remove non alphabet\n",
        "    x_data = x_data.apply(lambda review: [w for w in review.split() if w not in english_stops])  # remove stop words\n",
        "    x_data = x_data.apply(lambda review: [w.lower() for w in review])   # lower case\n",
        "    \n",
        "    # ENCODE SENTIMENT -> 0 & 1\n",
        "    y_data = y_data.replace('positive', 1)\n",
        "    y_data = y_data.replace('negative', 0)\n",
        "\n",
        "    return x_data, y_data\n",
        "\n",
        "x_data, y_data = load_dataset()\n",
        "\n",
        "print('Reviews')\n",
        "print(x_data, '\\n')\n",
        "print('Sentiment')\n",
        "print(y_data)"
      ],
      "metadata": {
        "colab": {
          "base_uri": "https://localhost:8080/"
        },
        "id": "bCfTn0qNKeIc",
        "outputId": "b1e76085-6d51-4f1d-d68c-8e43f35a189c"
      },
      "execution_count": null,
      "outputs": [
        {
          "output_type": "stream",
          "name": "stdout",
          "text": [
            "Reviews\n",
            "0        [one, reviewers, mentioned, watching, oz, epis...\n",
            "1        [a, wonderful, little, production, the, filmin...\n",
            "2        [i, thought, wonderful, way, spend, time, hot,...\n",
            "3        [basically, family, little, boy, jake, thinks,...\n",
            "4        [petter, mattei, love, time, money, visually, ...\n",
            "                               ...                        \n",
            "49995    [i, thought, movie, right, good, job, it, crea...\n",
            "49996    [bad, plot, bad, dialogue, bad, acting, idioti...\n",
            "49997    [i, catholic, taught, parochial, elementary, s...\n",
            "49998    [i, going, disagree, previous, comment, side, ...\n",
            "49999    [no, one, expects, star, trek, movies, high, a...\n",
            "Name: review, Length: 50000, dtype: object \n",
            "\n",
            "Sentiment\n",
            "0        1\n",
            "1        1\n",
            "2        1\n",
            "3        0\n",
            "4        1\n",
            "        ..\n",
            "49995    1\n",
            "49996    0\n",
            "49997    0\n",
            "49998    0\n",
            "49999    0\n",
            "Name: sentiment, Length: 50000, dtype: int64\n"
          ]
        }
      ]
    },
    {
      "cell_type": "markdown",
      "source": [
        "Split Dataset(IMDB)"
      ],
      "metadata": {
        "id": "HYAdBXXDLgEn"
      }
    },
    {
      "cell_type": "code",
      "source": [
        "x_train, x_test, y_train, y_test = train_test_split(x_data, y_data, test_size = 0.2)\n",
        "\n",
        "print('Train Set')\n",
        "print(x_train, '\\n')\n",
        "print(x_test, '\\n')\n",
        "print('Test Set')\n",
        "print(y_train, '\\n')\n",
        "print(y_test)"
      ],
      "metadata": {
        "colab": {
          "base_uri": "https://localhost:8080/"
        },
        "id": "ZWzZF_tPLfiD",
        "outputId": "7c99cde6-6758-4f1d-ca86-93d135f245ec"
      },
      "execution_count": null,
      "outputs": [
        {
          "output_type": "stream",
          "name": "stdout",
          "text": [
            "Train Set\n",
            "42883    [i, find, movie, best, movie, i, ever, seen, r...\n",
            "30590    [it, shame, movie, hard, get, hands, us, i, fo...\n",
            "13472    [i, heard, read, many, praising, things, midni...\n",
            "43517    [the, film, severely, awful, demeaning, rape, ...\n",
            "47701    [this, absolutely, spellbinding, series, sorry...\n",
            "                               ...                        \n",
            "46676    [the, consequences, love, there, really, somet...\n",
            "19393    [this, movie, terrible, john, wayne, brutal, a...\n",
            "11732    [first, i, would, like, point, film, absolutel...\n",
            "45799    [first, foremost, i, wish, aim, big, mean, mid...\n",
            "32040    [solid, comedy, entertainment, musical, interl...\n",
            "Name: review, Length: 40000, dtype: object \n",
            "\n",
            "30585    [maybe, excessive, weight, gain, seagal, put, ...\n",
            "8189     [fr, ulein, doktor, good, demonstration, great...\n",
            "17452    [essentially, story, man, versus, nature, film...\n",
            "8907     [this, film, antonioni, middle, period, critic...\n",
            "42438    [soultaker, written, starred, vivian, schillin...\n",
            "                               ...                        \n",
            "19532    [if, i, never, seen, first, road, house, i, gu...\n",
            "3804     [many, people, like, point, tv, movie, arguing...\n",
            "15791    [i, big, fan, stooges, slapstick, i, find, his...\n",
            "34865    [director, brian, yuzna, uneven, career, horro...\n",
            "23933    [i, never, heard, aussie, horror, prior, micha...\n",
            "Name: review, Length: 10000, dtype: object \n",
            "\n",
            "Test Set\n",
            "42883    1\n",
            "30590    1\n",
            "13472    0\n",
            "43517    0\n",
            "47701    1\n",
            "        ..\n",
            "46676    1\n",
            "19393    0\n",
            "11732    0\n",
            "45799    0\n",
            "32040    0\n",
            "Name: sentiment, Length: 40000, dtype: int64 \n",
            "\n",
            "30585    0\n",
            "8189     1\n",
            "17452    0\n",
            "8907     1\n",
            "42438    0\n",
            "        ..\n",
            "19532    0\n",
            "3804     0\n",
            "15791    0\n",
            "34865    1\n",
            "23933    1\n",
            "Name: sentiment, Length: 10000, dtype: int64\n"
          ]
        }
      ]
    },
    {
      "cell_type": "code",
      "source": [
        "def get_max_length():\n",
        "    review_length = []\n",
        "    for review in x_train:\n",
        "        review_length.append(len(review))\n",
        "\n",
        "    return int(np.ceil(np.mean(review_length)))"
      ],
      "metadata": {
        "id": "exUabfkGLnEG"
      },
      "execution_count": null,
      "outputs": []
    },
    {
      "cell_type": "markdown",
      "source": [
        "**Tokenize and Pad/Truncate Reviews**\n",
        "\n",
        "A Neural Network only accepts numeric data, so we need to encode the reviews. Use tensorflow.keras.-preprocessing.text.Tokenizer to encode the reviews into integers, where each unique word is automatically indexed (using fit_on_texts method) based on x_train. x_train and x_test is converted into integers using texts_to_sequences method.\n",
        "\n",
        "Each reviews has a different length, so we need to add padding (by adding 0) or truncating the words to the same length (in this case, it is the mean of all reviews length) using tensorflow.keras.preprocessing.sequence.pad_sequences.\n",
        "\n",
        "Post, pad or truncate the words in the back of a sentence; pre, pad or truncate the words in front of a sentence."
      ],
      "metadata": {
        "id": "sTIbkZIqLywa"
      }
    },
    {
      "cell_type": "code",
      "source": [
        "print(x_train)\n",
        "# ENCODE REVIEW\n",
        "token = Tokenizer(lower=False)    # no need lower, because already lowered the data in load_data()\n",
        "token.fit_on_texts(x_train)\n",
        "x_train = token.texts_to_sequences(x_train)\n",
        "x_test = token.texts_to_sequences(x_test)\n",
        "\n",
        "max_length = get_max_length()\n",
        "\n",
        "x_train = pad_sequences(x_train, maxlen=max_length, padding='post', truncating='post')\n",
        "x_test = pad_sequences(x_test, maxlen=max_length, padding='post', truncating='post')\n",
        "\n",
        "total_words = len(token.word_index) + 1   # add 1 because of 0 padding\n",
        "\n",
        "print('Encoded X Train\\n', x_train, '\\n')\n",
        "print('Encoded X Test\\n', x_test, '\\n')\n",
        "print('Maximum review length: ', max_length)"
      ],
      "metadata": {
        "colab": {
          "base_uri": "https://localhost:8080/"
        },
        "id": "h9fGQvxPLvjU",
        "outputId": "d77aa975-fa03-428f-ce4a-55757036c8c7"
      },
      "execution_count": null,
      "outputs": [
        {
          "output_type": "stream",
          "name": "stdout",
          "text": [
            "42883    [i, find, movie, best, movie, i, ever, seen, r...\n",
            "30590    [it, shame, movie, hard, get, hands, us, i, fo...\n",
            "13472    [i, heard, read, many, praising, things, midni...\n",
            "43517    [the, film, severely, awful, demeaning, rape, ...\n",
            "47701    [this, absolutely, spellbinding, series, sorry...\n",
            "                               ...                        \n",
            "46676    [the, consequences, love, there, really, somet...\n",
            "19393    [this, movie, terrible, john, wayne, brutal, a...\n",
            "11732    [first, i, would, like, point, film, absolutel...\n",
            "45799    [first, foremost, i, wish, aim, big, mean, mid...\n",
            "32040    [solid, comedy, entertainment, musical, interl...\n",
            "Name: review, Length: 40000, dtype: object\n",
            "Encoded X Train\n",
            " [[   1   79    3 ...    0    0    0]\n",
            " [   7  783    3 ... 2249  875   55]\n",
            " [   1  459  244 ... 8202 4153 3683]\n",
            " ...\n",
            " [  23    1   12 ...   46   67   51]\n",
            " [  23 6687    1 ...  265 1146   35]\n",
            " [1099  108  611 ...    0    0    0]] \n",
            "\n",
            "Encoded X Test\n",
            " [[  180  5096  3203 ...     0     0     0]\n",
            " [16310 48281 26478 ...   474  2492  1635]\n",
            " [ 1909    14    52 ...     0     0     0]\n",
            " ...\n",
            " [    1   101   232 ...     0     0     0]\n",
            " [   70  1666 13121 ...  1433     9  5600]\n",
            " [    1    42   459 ...   168   631  2072]] \n",
            "\n",
            "Maximum review length:  130\n"
          ]
        }
      ]
    },
    {
      "cell_type": "markdown",
      "source": [
        "**Build Architecture/Model**\n",
        "Embedding Layer: in simple terms, it creates word vectors of each word in the word_index and group words that are related or have similar meaning by analyzing other words around them.\n",
        "\n",
        "LSTM Layer: to make a decision to keep or throw away data by considering the current input, previous output, and previous memory. There are some important components in LSTM.\n",
        "\n",
        "Forget Gate, decides information is to be kept or thrown away\n",
        "Input Gate, updates cell state by passing previous output and current input into sigmoid activation function\n",
        "Cell State, calculate new cell state, it is multiplied by forget vector (drop value if multiplied by a near 0), add it with the output from input gate to update the cell state value.\n",
        "Ouput Gate, decides the next hidden state and used for predictions\n",
        "Dense Layer: compute the input with the weight matrix and bias (optional), and using an activation function. I use Sigmoid activation function for this work because the output is only 0 or 1.\n",
        "\n",
        "The optimizer is Adam and the loss function is Binary Crossentropy because again the output is only 0 and 1, which is a binary number."
      ],
      "metadata": {
        "id": "Z-RakCL_NJwA"
      }
    },
    {
      "cell_type": "code",
      "source": [
        "from tensorflow.keras.utils import plot_model\n",
        "from keras.models import Sequential\n",
        "from keras.layers import LSTM, Dense, Dropout, Masking, Embedding\n"
      ],
      "metadata": {
        "id": "PTgG4Ka3NE4a"
      },
      "execution_count": null,
      "outputs": []
    },
    {
      "cell_type": "markdown",
      "source": [
        "Tanh Fnction (Hyperbolic tangent activation function.)"
      ],
      "metadata": {
        "id": "c11Gyfk4UHby"
      }
    },
    {
      "cell_type": "code",
      "source": [
        "# ARCHITECTURE\n",
        "EMBED_DIM = 32\n",
        "LSTM_OUT = 64\n",
        "\n",
        "model0 = Sequential()\n",
        "model0.add(Embedding(total_words, EMBED_DIM, input_length = max_length))\n",
        "model0.add(LSTM(LSTM_OUT))\n",
        "#model0.add(Dense(64, activation='relu'))\n",
        "model0.add(Dense(12, input_shape=(8,), activation='tanh'))\n",
        "model0.add(Dense(8, activation='tanh'))\n",
        "model0.add(Dense(1, activation='sigmoid'))\n",
        "model0.compile(optimizer = 'adam', loss = 'binary_crossentropy', metrics = ['accuracy'])\n",
        "plot_model(model0, to_file= \"/content/drive/MyDrive/MASTERS FOLDER/CS855/US_Elections_Data_Downloads/US_elections/LSTM/modelLSTM.png\")\n",
        "print(model0.summary())"
      ],
      "metadata": {
        "colab": {
          "base_uri": "https://localhost:8080/"
        },
        "id": "jRrAMBkLPpvT",
        "outputId": "18ded2a6-b836-4b24-bb25-717ea1af3e2c"
      },
      "execution_count": null,
      "outputs": [
        {
          "output_type": "stream",
          "name": "stdout",
          "text": [
            "Model: \"sequential\"\n",
            "_________________________________________________________________\n",
            " Layer (type)                Output Shape              Param #   \n",
            "=================================================================\n",
            " embedding (Embedding)       (None, 130, 32)           2955456   \n",
            "                                                                 \n",
            " lstm (LSTM)                 (None, 64)                24832     \n",
            "                                                                 \n",
            " dense (Dense)               (None, 12)                780       \n",
            "                                                                 \n",
            " dense_1 (Dense)             (None, 8)                 104       \n",
            "                                                                 \n",
            " dense_2 (Dense)             (None, 1)                 9         \n",
            "                                                                 \n",
            "=================================================================\n",
            "Total params: 2,981,181\n",
            "Trainable params: 2,981,181\n",
            "Non-trainable params: 0\n",
            "_________________________________________________________________\n",
            "None\n"
          ]
        }
      ]
    },
    {
      "cell_type": "code",
      "source": [
        "checkpoint = ModelCheckpoint(\n",
        "    '/content/drive/MyDrive/MASTERS FOLDER/CS855/US_Elections_Data_Downloads/US_elections/LSTM/LSTM_2.h5',\n",
        "    monitor='accuracy',\n",
        "    save_best_only=True,\n",
        "    verbose=1\n",
        ")"
      ],
      "metadata": {
        "id": "CbxQgbMZS7mi"
      },
      "execution_count": null,
      "outputs": []
    },
    {
      "cell_type": "code",
      "source": [
        "#model.compile(optimizer = 'adam', loss = 'binary_crossentropy', metrics = ['accuracy'])\n",
        "model0.fit(x_train, y_train, batch_size = 128, epochs = 5, callbacks=[checkpoint])"
      ],
      "metadata": {
        "colab": {
          "base_uri": "https://localhost:8080/"
        },
        "id": "QeRXbOqOTD3F",
        "outputId": "ca6d9060-5108-48f1-9686-f7b5f58d877c"
      },
      "execution_count": null,
      "outputs": [
        {
          "output_type": "stream",
          "name": "stdout",
          "text": [
            "Epoch 1/5\n",
            "313/313 [==============================] - ETA: 0s - loss: 0.5306 - accuracy: 0.6989\n",
            "Epoch 00001: accuracy improved from -inf to 0.69888, saving model to /content/drive/MyDrive/MASTERS FOLDER/CS855/US_Elections_Data_Downloads/US_elections/LSTM/LSTM_2.h5\n",
            "313/313 [==============================] - 48s 145ms/step - loss: 0.5306 - accuracy: 0.6989\n",
            "Epoch 2/5\n",
            "313/313 [==============================] - ETA: 0s - loss: 0.2336 - accuracy: 0.9135\n",
            "Epoch 00002: accuracy improved from 0.69888 to 0.91347, saving model to /content/drive/MyDrive/MASTERS FOLDER/CS855/US_Elections_Data_Downloads/US_elections/LSTM/LSTM_2.h5\n",
            "313/313 [==============================] - 44s 141ms/step - loss: 0.2336 - accuracy: 0.9135\n",
            "Epoch 3/5\n",
            "313/313 [==============================] - ETA: 0s - loss: 0.1317 - accuracy: 0.9580\n",
            "Epoch 00003: accuracy improved from 0.91347 to 0.95802, saving model to /content/drive/MyDrive/MASTERS FOLDER/CS855/US_Elections_Data_Downloads/US_elections/LSTM/LSTM_2.h5\n",
            "313/313 [==============================] - 43s 139ms/step - loss: 0.1317 - accuracy: 0.9580\n",
            "Epoch 4/5\n",
            "313/313 [==============================] - ETA: 0s - loss: 0.0871 - accuracy: 0.9755\n",
            "Epoch 00004: accuracy improved from 0.95802 to 0.97548, saving model to /content/drive/MyDrive/MASTERS FOLDER/CS855/US_Elections_Data_Downloads/US_elections/LSTM/LSTM_2.h5\n",
            "313/313 [==============================] - 43s 139ms/step - loss: 0.0871 - accuracy: 0.9755\n",
            "Epoch 5/5\n",
            "313/313 [==============================] - ETA: 0s - loss: 0.0584 - accuracy: 0.9845\n",
            "Epoch 00005: accuracy improved from 0.97548 to 0.98450, saving model to /content/drive/MyDrive/MASTERS FOLDER/CS855/US_Elections_Data_Downloads/US_elections/LSTM/LSTM_2.h5\n",
            "313/313 [==============================] - 44s 142ms/step - loss: 0.0584 - accuracy: 0.9845\n"
          ]
        },
        {
          "output_type": "execute_result",
          "data": {
            "text/plain": [
              "<keras.callbacks.History at 0x7f9de6b40110>"
            ]
          },
          "metadata": {},
          "execution_count": 15
        }
      ]
    },
    {
      "cell_type": "markdown",
      "source": [
        "TESTING the LSTM Model\n",
        "\n",
        "To evaluate the model, we need to predict the sentiment using our x_test data and comparing the predictions with y_test (expected output) data. Then, we calculate the accuracy of the model by dividing numbers of correct prediction with the total data."
      ],
      "metadata": {
        "id": "Hpgeb5VJWs-I"
      }
    },
    {
      "cell_type": "code",
      "source": [
        "#y_pred = model.predict_classes(x_test, batch_size = 128)\n",
        "y_pred=model0.predict(x_test) \n",
        "y_pred = np.round(y_pred).astype(int)\n",
        "\n",
        "true = 0\n",
        "for i, y in enumerate(y_test):\n",
        "    if y == y_pred[i]:\n",
        "        true += 1\n",
        "\n",
        "print('Correct Prediction: {}'.format(true))\n",
        "print('Wrong Prediction: {}'.format(len(y_pred) - true))\n",
        "print('Accuracy: {}'.format(true/len(y_pred)*100))"
      ],
      "metadata": {
        "colab": {
          "base_uri": "https://localhost:8080/"
        },
        "id": "9EXhjh4kWrKG",
        "outputId": "0ff68735-517c-4017-a3d4-2da450d8aa0e"
      },
      "execution_count": null,
      "outputs": [
        {
          "output_type": "stream",
          "name": "stdout",
          "text": [
            "Correct Prediction: 8687\n",
            "Wrong Prediction: 1313\n",
            "Accuracy: 86.87\n"
          ]
        }
      ]
    },
    {
      "cell_type": "code",
      "source": [
        "print(classification_report(y_test,y_pred))\n",
        "confusion_matrix(y_test, y_pred)"
      ],
      "metadata": {
        "colab": {
          "base_uri": "https://localhost:8080/"
        },
        "id": "tJgN4P78blBI",
        "outputId": "08ee5af7-0b18-4ee5-af65-f7093b67d432"
      },
      "execution_count": null,
      "outputs": [
        {
          "output_type": "stream",
          "name": "stdout",
          "text": [
            "              precision    recall  f1-score   support\n",
            "\n",
            "           0       0.89      0.84      0.87      5029\n",
            "           1       0.85      0.90      0.87      4971\n",
            "\n",
            "    accuracy                           0.87     10000\n",
            "   macro avg       0.87      0.87      0.87     10000\n",
            "weighted avg       0.87      0.87      0.87     10000\n",
            "\n"
          ]
        },
        {
          "output_type": "execute_result",
          "data": {
            "text/plain": [
              "array([[4219,  810],\n",
              "       [ 503, 4468]])"
            ]
          },
          "metadata": {},
          "execution_count": 17
        }
      ]
    },
    {
      "cell_type": "markdown",
      "source": [
        "Load Saved Model\n",
        "\n",
        "Load saved model and use it to predict a movie review statement's sentiment (positive or negative)"
      ],
      "metadata": {
        "id": "lolp0eRCdcwZ"
      }
    },
    {
      "cell_type": "code",
      "source": [
        "loaded_model = load_model('/content/drive/MyDrive/MASTERS FOLDER/CS855/LSTM-Data/LSTM/LSTM.h5')"
      ],
      "metadata": {
        "id": "_kXWlw_tdgIY"
      },
      "execution_count": null,
      "outputs": []
    },
    {
      "cell_type": "markdown",
      "source": [
        "**Random Forest Classifier**"
      ],
      "metadata": {
        "id": "0dEhDn3-ZELa"
      }
    },
    {
      "cell_type": "code",
      "source": [
        "#Feature scaling to scale the data or commonly known as normalization\n",
        "from sklearn.preprocessing import StandardScaler\n",
        "scaler = StandardScaler()\n",
        "scaler.fit(x_train)\n",
        "xtrain1 = scaler.transform(x_train)\n",
        "xtest1 = scaler.transform(x_test)"
      ],
      "metadata": {
        "id": "n66bJKqvZD6J"
      },
      "execution_count": null,
      "outputs": []
    },
    {
      "cell_type": "code",
      "source": [
        "#Implementing Random Forest Algorithm\n",
        "from sklearn import metrics\n",
        "from sklearn.ensemble import RandomForestClassifier\n",
        "\n",
        "rf = RandomForestClassifier(n_estimators = 300, criterion=\"entropy\")\n",
        "rf.fit(xtrain1, y_train)\n",
        "y_pred_RF = rf.predict(xtest1)\n",
        "\n",
        "# Making Confusion Matrix\n",
        "from sklearn.metrics import classification_report, confusion_matrix, accuracy_score\n",
        "confusion_matrix(y_test, y_pred_RF)"
      ],
      "metadata": {
        "colab": {
          "base_uri": "https://localhost:8080/"
        },
        "id": "GG06RW5lZljZ",
        "outputId": "433bec98-e06d-48de-8823-5e994d7ccd61"
      },
      "execution_count": null,
      "outputs": [
        {
          "output_type": "execute_result",
          "data": {
            "text/plain": [
              "array([[2945, 2084],\n",
              "       [2328, 2643]])"
            ]
          },
          "metadata": {},
          "execution_count": 24
        }
      ]
    },
    {
      "cell_type": "code",
      "source": [
        "#Calculating Precision, Recall, F1-score, and Accuracy\n",
        "from sklearn.metrics import classification_report, confusion_matrix, accuracy_score\n",
        "print(classification_report(y_test, y_pred_RF))\n",
        "print(accuracy_score(y_test, y_pred_RF))"
      ],
      "metadata": {
        "colab": {
          "base_uri": "https://localhost:8080/"
        },
        "id": "MW1wvxr1bqI6",
        "outputId": "2012b423-92c1-4168-960f-d1fdd344781b"
      },
      "execution_count": null,
      "outputs": [
        {
          "output_type": "stream",
          "name": "stdout",
          "text": [
            "              precision    recall  f1-score   support\n",
            "\n",
            "           0       0.56      0.59      0.57      5029\n",
            "           1       0.56      0.53      0.55      4971\n",
            "\n",
            "    accuracy                           0.56     10000\n",
            "   macro avg       0.56      0.56      0.56     10000\n",
            "weighted avg       0.56      0.56      0.56     10000\n",
            "\n",
            "0.5588\n"
          ]
        }
      ]
    },
    {
      "cell_type": "markdown",
      "source": [
        "KNN"
      ],
      "metadata": {
        "id": "BNzuZXijb001"
      }
    },
    {
      "cell_type": "code",
      "source": [
        "from sklearn.neighbors import KNeighborsClassifier\n",
        "\n",
        "# Enable the classification function for KNN\n",
        "knn = KNeighborsClassifier (n_neighbors=4)\n",
        "\n",
        "# Enter training data in the classification function for KNN\n",
        "knn.fit(x_train,y_train)\n",
        "\n",
        "#Determine predictions or forecasts\n",
        "y_pred_KNN = knn.predict(x_test)\n",
        "y_pred_KNN= pd.DataFrame(y_pred_KNN)"
      ],
      "metadata": {
        "id": "x2WSMgW4bx9i"
      },
      "execution_count": null,
      "outputs": []
    },
    {
      "cell_type": "code",
      "source": [
        "from sklearn.metrics import classification_report, confusion_matrix\n",
        "\n",
        "# Displays the prediction result matrix\n",
        "print(confusion_matrix(y_test,y_pred_KNN))"
      ],
      "metadata": {
        "colab": {
          "base_uri": "https://localhost:8080/"
        },
        "id": "ZQxV5I7hcYQp",
        "outputId": "bd7eaa17-557d-4d34-8ad3-eb0ffe57b7f2"
      },
      "execution_count": null,
      "outputs": [
        {
          "output_type": "stream",
          "name": "stdout",
          "text": [
            "[[3669 1360]\n",
            " [3511 1460]]\n"
          ]
        }
      ]
    },
    {
      "cell_type": "code",
      "source": [
        "#measure the accuracy or accuracy of the prediction results\n",
        "print(classification_report(y_test,y_pred_KNN))\n",
        "print(accuracy_score(y_test, y_pred_KNN))"
      ],
      "metadata": {
        "colab": {
          "base_uri": "https://localhost:8080/"
        },
        "id": "UZdUjxTpcdct",
        "outputId": "62b8e949-8912-4c7e-9b20-3f8d07503202"
      },
      "execution_count": null,
      "outputs": [
        {
          "output_type": "stream",
          "name": "stdout",
          "text": [
            "              precision    recall  f1-score   support\n",
            "\n",
            "           0       0.51      0.73      0.60      5029\n",
            "           1       0.52      0.29      0.37      4971\n",
            "\n",
            "    accuracy                           0.51     10000\n",
            "   macro avg       0.51      0.51      0.49     10000\n",
            "weighted avg       0.51      0.51      0.49     10000\n",
            "\n",
            "0.5129\n"
          ]
        }
      ]
    },
    {
      "cell_type": "markdown",
      "source": [
        "**Testing on Tweet Data**"
      ],
      "metadata": {
        "id": "qmOUa9byXohJ"
      }
    },
    {
      "cell_type": "code",
      "source": [
        "Bide_df = pd.read_csv('/content/drive/MyDrive/MASTERS FOLDER/CS855/US_Elections_Data_Downloads/US_elections/cleaned_sample_100_biden.csv')\n",
        "Tru_df = pd.read_csv('/content/drive/MyDrive/MASTERS FOLDER/CS855/US_Elections_Data_Downloads/US_elections/cleaned_sample_100_trump.csv')"
      ],
      "metadata": {
        "id": "GKo5yhqfXqKH"
      },
      "execution_count": null,
      "outputs": []
    },
    {
      "cell_type": "code",
      "source": [
        "Bide_df.loc[:,'who'] = 'biden'\n",
        "Tru_df.loc[:,'who'] = 'trump'\n",
        "\n",
        "balance_data_df = pd.DataFrame(columns=Tru_df.columns)\n",
        "balance_data_df"
      ],
      "metadata": {
        "colab": {
          "base_uri": "https://localhost:8080/",
          "height": 49
        },
        "id": "FB9Dw-CLY4h7",
        "outputId": "c467d4b0-d030-40b6-84f9-d47912519ed1"
      },
      "execution_count": null,
      "outputs": [
        {
          "output_type": "execute_result",
          "data": {
            "text/html": [
              "\n",
              "  <div id=\"df-cf557948-a1b4-4909-9483-f9aa8d4f2ccc\">\n",
              "    <div class=\"colab-df-container\">\n",
              "      <div>\n",
              "<style scoped>\n",
              "    .dataframe tbody tr th:only-of-type {\n",
              "        vertical-align: middle;\n",
              "    }\n",
              "\n",
              "    .dataframe tbody tr th {\n",
              "        vertical-align: top;\n",
              "    }\n",
              "\n",
              "    .dataframe thead th {\n",
              "        text-align: right;\n",
              "    }\n",
              "</style>\n",
              "<table border=\"1\" class=\"dataframe\">\n",
              "  <thead>\n",
              "    <tr style=\"text-align: right;\">\n",
              "      <th></th>\n",
              "      <th>tweet</th>\n",
              "      <th>long</th>\n",
              "      <th>lat</th>\n",
              "      <th>state_code</th>\n",
              "      <th>sentiment</th>\n",
              "      <th>who</th>\n",
              "    </tr>\n",
              "  </thead>\n",
              "  <tbody>\n",
              "  </tbody>\n",
              "</table>\n",
              "</div>\n",
              "      <button class=\"colab-df-convert\" onclick=\"convertToInteractive('df-cf557948-a1b4-4909-9483-f9aa8d4f2ccc')\"\n",
              "              title=\"Convert this dataframe to an interactive table.\"\n",
              "              style=\"display:none;\">\n",
              "        \n",
              "  <svg xmlns=\"http://www.w3.org/2000/svg\" height=\"24px\"viewBox=\"0 0 24 24\"\n",
              "       width=\"24px\">\n",
              "    <path d=\"M0 0h24v24H0V0z\" fill=\"none\"/>\n",
              "    <path d=\"M18.56 5.44l.94 2.06.94-2.06 2.06-.94-2.06-.94-.94-2.06-.94 2.06-2.06.94zm-11 1L8.5 8.5l.94-2.06 2.06-.94-2.06-.94L8.5 2.5l-.94 2.06-2.06.94zm10 10l.94 2.06.94-2.06 2.06-.94-2.06-.94-.94-2.06-.94 2.06-2.06.94z\"/><path d=\"M17.41 7.96l-1.37-1.37c-.4-.4-.92-.59-1.43-.59-.52 0-1.04.2-1.43.59L10.3 9.45l-7.72 7.72c-.78.78-.78 2.05 0 2.83L4 21.41c.39.39.9.59 1.41.59.51 0 1.02-.2 1.41-.59l7.78-7.78 2.81-2.81c.8-.78.8-2.07 0-2.86zM5.41 20L4 18.59l7.72-7.72 1.47 1.35L5.41 20z\"/>\n",
              "  </svg>\n",
              "      </button>\n",
              "      \n",
              "  <style>\n",
              "    .colab-df-container {\n",
              "      display:flex;\n",
              "      flex-wrap:wrap;\n",
              "      gap: 12px;\n",
              "    }\n",
              "\n",
              "    .colab-df-convert {\n",
              "      background-color: #E8F0FE;\n",
              "      border: none;\n",
              "      border-radius: 50%;\n",
              "      cursor: pointer;\n",
              "      display: none;\n",
              "      fill: #1967D2;\n",
              "      height: 32px;\n",
              "      padding: 0 0 0 0;\n",
              "      width: 32px;\n",
              "    }\n",
              "\n",
              "    .colab-df-convert:hover {\n",
              "      background-color: #E2EBFA;\n",
              "      box-shadow: 0px 1px 2px rgba(60, 64, 67, 0.3), 0px 1px 3px 1px rgba(60, 64, 67, 0.15);\n",
              "      fill: #174EA6;\n",
              "    }\n",
              "\n",
              "    [theme=dark] .colab-df-convert {\n",
              "      background-color: #3B4455;\n",
              "      fill: #D2E3FC;\n",
              "    }\n",
              "\n",
              "    [theme=dark] .colab-df-convert:hover {\n",
              "      background-color: #434B5C;\n",
              "      box-shadow: 0px 1px 3px 1px rgba(0, 0, 0, 0.15);\n",
              "      filter: drop-shadow(0px 1px 2px rgba(0, 0, 0, 0.3));\n",
              "      fill: #FFFFFF;\n",
              "    }\n",
              "  </style>\n",
              "\n",
              "      <script>\n",
              "        const buttonEl =\n",
              "          document.querySelector('#df-cf557948-a1b4-4909-9483-f9aa8d4f2ccc button.colab-df-convert');\n",
              "        buttonEl.style.display =\n",
              "          google.colab.kernel.accessAllowed ? 'block' : 'none';\n",
              "\n",
              "        async function convertToInteractive(key) {\n",
              "          const element = document.querySelector('#df-cf557948-a1b4-4909-9483-f9aa8d4f2ccc');\n",
              "          const dataTable =\n",
              "            await google.colab.kernel.invokeFunction('convertToInteractive',\n",
              "                                                     [key], {});\n",
              "          if (!dataTable) return;\n",
              "\n",
              "          const docLinkHtml = 'Like what you see? Visit the ' +\n",
              "            '<a target=\"_blank\" href=https://colab.research.google.com/notebooks/data_table.ipynb>data table notebook</a>'\n",
              "            + ' to learn more about interactive tables.';\n",
              "          element.innerHTML = '';\n",
              "          dataTable['output_type'] = 'display_data';\n",
              "          await google.colab.output.renderOutput(dataTable, element);\n",
              "          const docLink = document.createElement('div');\n",
              "          docLink.innerHTML = docLinkHtml;\n",
              "          element.appendChild(docLink);\n",
              "        }\n",
              "      </script>\n",
              "    </div>\n",
              "  </div>\n",
              "  "
            ],
            "text/plain": [
              "Empty DataFrame\n",
              "Columns: [tweet, long, lat, state_code, sentiment, who]\n",
              "Index: []"
            ]
          },
          "metadata": {},
          "execution_count": 34
        }
      ]
    },
    {
      "cell_type": "code",
      "source": [
        "states_list = set(Bide_df['state_code']).union(set(Tru_df['state_code'])) - set(['MP', 'GU', 'PR', 'VI', 'AS', 'UM', ])"
      ],
      "metadata": {
        "id": "NOLRM-gpaDvt"
      },
      "execution_count": null,
      "outputs": []
    },
    {
      "cell_type": "code",
      "source": [
        "for state in states_list:\n",
        "    Tru_df_state = Tru_df[Tru_df['state_code']==state]\n",
        "    Bide_df_state = Bide_df[Bide_df['state_code']==state]\n",
        "    \n",
        "    n_sample = len(Tru_df_state) if len(Tru_df_state) < len(Bide_df_state) else len(Bide_df_state)\n",
        "    \n",
        "    if len(Bide_df_state) < len(Bide_df_state):\n",
        "        balance_data_df = pd.concat([balance_data_df, Tru_df_state])\n",
        "        balance_data_df = pd.concat([balance_data_df, Bide_df_state.sample(len(Tru_df_state))])\n",
        "    else:\n",
        "        balance_data_df = pd.concat([balance_data_df, Bide_df_state])\n",
        "        #balance_data_df = pd.concat([balance_data_df, Tru_df_state.sample(len(Bide_df_state))])"
      ],
      "metadata": {
        "id": "hXOl-hQjaE7G"
      },
      "execution_count": null,
      "outputs": []
    },
    {
      "cell_type": "code",
      "source": [
        "balance_data_df"
      ],
      "metadata": {
        "colab": {
          "base_uri": "https://localhost:8080/",
          "height": 423
        },
        "id": "ue-cC1aUdaI8",
        "outputId": "3e9554b2-08c0-4865-f7aa-0fbcf1c97216"
      },
      "execution_count": null,
      "outputs": [
        {
          "output_type": "execute_result",
          "data": {
            "text/html": [
              "\n",
              "  <div id=\"df-8ffe45e7-bdb1-40b6-8915-7e9425f3139a\">\n",
              "    <div class=\"colab-df-container\">\n",
              "      <div>\n",
              "<style scoped>\n",
              "    .dataframe tbody tr th:only-of-type {\n",
              "        vertical-align: middle;\n",
              "    }\n",
              "\n",
              "    .dataframe tbody tr th {\n",
              "        vertical-align: top;\n",
              "    }\n",
              "\n",
              "    .dataframe thead th {\n",
              "        text-align: right;\n",
              "    }\n",
              "</style>\n",
              "<table border=\"1\" class=\"dataframe\">\n",
              "  <thead>\n",
              "    <tr style=\"text-align: right;\">\n",
              "      <th></th>\n",
              "      <th>tweet</th>\n",
              "      <th>long</th>\n",
              "      <th>lat</th>\n",
              "      <th>state_code</th>\n",
              "      <th>sentiment</th>\n",
              "      <th>who</th>\n",
              "    </tr>\n",
              "  </thead>\n",
              "  <tbody>\n",
              "    <tr>\n",
              "      <th>604</th>\n",
              "      <td>Hey Trump... NO MORE YEARS!!!  realDonaldTrump...</td>\n",
              "      <td>-72.500261</td>\n",
              "      <td>44.599072</td>\n",
              "      <td>VT</td>\n",
              "      <td>0</td>\n",
              "      <td>biden</td>\n",
              "    </tr>\n",
              "    <tr>\n",
              "      <th>1485</th>\n",
              "      <td>Yes, JoeBiden, I would like a fair shot, too. ...</td>\n",
              "      <td>-73.064280</td>\n",
              "      <td>43.876452</td>\n",
              "      <td>VT</td>\n",
              "      <td>0</td>\n",
              "      <td>biden</td>\n",
              "    </tr>\n",
              "    <tr>\n",
              "      <th>2706</th>\n",
              "      <td>Joe Biden was more decisive than you think .CN...</td>\n",
              "      <td>-72.603405</td>\n",
              "      <td>44.210076</td>\n",
              "      <td>VT</td>\n",
              "      <td>0</td>\n",
              "      <td>biden</td>\n",
              "    </tr>\n",
              "    <tr>\n",
              "      <th>4022</th>\n",
              "      <td>realDonaldTrump BreitbartNews This is the stuf...</td>\n",
              "      <td>-73.212906</td>\n",
              "      <td>44.476160</td>\n",
              "      <td>VT</td>\n",
              "      <td>0</td>\n",
              "      <td>biden</td>\n",
              "    </tr>\n",
              "    <tr>\n",
              "      <th>5217</th>\n",
              "      <td>My thumb hurts from liking all your celebrator...</td>\n",
              "      <td>-72.500261</td>\n",
              "      <td>44.599072</td>\n",
              "      <td>VT</td>\n",
              "      <td>0</td>\n",
              "      <td>biden</td>\n",
              "    </tr>\n",
              "    <tr>\n",
              "      <th>...</th>\n",
              "      <td>...</td>\n",
              "      <td>...</td>\n",
              "      <td>...</td>\n",
              "      <td>...</td>\n",
              "      <td>...</td>\n",
              "      <td>...</td>\n",
              "    </tr>\n",
              "    <tr>\n",
              "      <th>48373</th>\n",
              "      <td>What stage is Trump and his closest followers ...</td>\n",
              "      <td>-106.650985</td>\n",
              "      <td>35.084103</td>\n",
              "      <td>NM</td>\n",
              "      <td>0</td>\n",
              "      <td>biden</td>\n",
              "    </tr>\n",
              "    <tr>\n",
              "      <th>48556</th>\n",
              "      <td>At times like these, it's best to say \"that go...</td>\n",
              "      <td>-106.650985</td>\n",
              "      <td>35.084103</td>\n",
              "      <td>NM</td>\n",
              "      <td>0</td>\n",
              "      <td>biden</td>\n",
              "    </tr>\n",
              "    <tr>\n",
              "      <th>48570</th>\n",
              "      <td>Seriously what are the odds JoeBiden makes it ...</td>\n",
              "      <td>-105.993007</td>\n",
              "      <td>34.570817</td>\n",
              "      <td>NM</td>\n",
              "      <td>0</td>\n",
              "      <td>biden</td>\n",
              "    </tr>\n",
              "    <tr>\n",
              "      <th>48716</th>\n",
              "      <td>KamalaHarris  is our first female Vice Preside...</td>\n",
              "      <td>-105.993007</td>\n",
              "      <td>34.570817</td>\n",
              "      <td>NM</td>\n",
              "      <td>0</td>\n",
              "      <td>biden</td>\n",
              "    </tr>\n",
              "    <tr>\n",
              "      <th>48753</th>\n",
              "      <td>Deb4CongressNM JoeBiden JoeBiden KamalaHarris ...</td>\n",
              "      <td>-106.650985</td>\n",
              "      <td>35.084103</td>\n",
              "      <td>NM</td>\n",
              "      <td>0</td>\n",
              "      <td>biden</td>\n",
              "    </tr>\n",
              "  </tbody>\n",
              "</table>\n",
              "<p>48988 rows × 6 columns</p>\n",
              "</div>\n",
              "      <button class=\"colab-df-convert\" onclick=\"convertToInteractive('df-8ffe45e7-bdb1-40b6-8915-7e9425f3139a')\"\n",
              "              title=\"Convert this dataframe to an interactive table.\"\n",
              "              style=\"display:none;\">\n",
              "        \n",
              "  <svg xmlns=\"http://www.w3.org/2000/svg\" height=\"24px\"viewBox=\"0 0 24 24\"\n",
              "       width=\"24px\">\n",
              "    <path d=\"M0 0h24v24H0V0z\" fill=\"none\"/>\n",
              "    <path d=\"M18.56 5.44l.94 2.06.94-2.06 2.06-.94-2.06-.94-.94-2.06-.94 2.06-2.06.94zm-11 1L8.5 8.5l.94-2.06 2.06-.94-2.06-.94L8.5 2.5l-.94 2.06-2.06.94zm10 10l.94 2.06.94-2.06 2.06-.94-2.06-.94-.94-2.06-.94 2.06-2.06.94z\"/><path d=\"M17.41 7.96l-1.37-1.37c-.4-.4-.92-.59-1.43-.59-.52 0-1.04.2-1.43.59L10.3 9.45l-7.72 7.72c-.78.78-.78 2.05 0 2.83L4 21.41c.39.39.9.59 1.41.59.51 0 1.02-.2 1.41-.59l7.78-7.78 2.81-2.81c.8-.78.8-2.07 0-2.86zM5.41 20L4 18.59l7.72-7.72 1.47 1.35L5.41 20z\"/>\n",
              "  </svg>\n",
              "      </button>\n",
              "      \n",
              "  <style>\n",
              "    .colab-df-container {\n",
              "      display:flex;\n",
              "      flex-wrap:wrap;\n",
              "      gap: 12px;\n",
              "    }\n",
              "\n",
              "    .colab-df-convert {\n",
              "      background-color: #E8F0FE;\n",
              "      border: none;\n",
              "      border-radius: 50%;\n",
              "      cursor: pointer;\n",
              "      display: none;\n",
              "      fill: #1967D2;\n",
              "      height: 32px;\n",
              "      padding: 0 0 0 0;\n",
              "      width: 32px;\n",
              "    }\n",
              "\n",
              "    .colab-df-convert:hover {\n",
              "      background-color: #E2EBFA;\n",
              "      box-shadow: 0px 1px 2px rgba(60, 64, 67, 0.3), 0px 1px 3px 1px rgba(60, 64, 67, 0.15);\n",
              "      fill: #174EA6;\n",
              "    }\n",
              "\n",
              "    [theme=dark] .colab-df-convert {\n",
              "      background-color: #3B4455;\n",
              "      fill: #D2E3FC;\n",
              "    }\n",
              "\n",
              "    [theme=dark] .colab-df-convert:hover {\n",
              "      background-color: #434B5C;\n",
              "      box-shadow: 0px 1px 3px 1px rgba(0, 0, 0, 0.15);\n",
              "      filter: drop-shadow(0px 1px 2px rgba(0, 0, 0, 0.3));\n",
              "      fill: #FFFFFF;\n",
              "    }\n",
              "  </style>\n",
              "\n",
              "      <script>\n",
              "        const buttonEl =\n",
              "          document.querySelector('#df-8ffe45e7-bdb1-40b6-8915-7e9425f3139a button.colab-df-convert');\n",
              "        buttonEl.style.display =\n",
              "          google.colab.kernel.accessAllowed ? 'block' : 'none';\n",
              "\n",
              "        async function convertToInteractive(key) {\n",
              "          const element = document.querySelector('#df-8ffe45e7-bdb1-40b6-8915-7e9425f3139a');\n",
              "          const dataTable =\n",
              "            await google.colab.kernel.invokeFunction('convertToInteractive',\n",
              "                                                     [key], {});\n",
              "          if (!dataTable) return;\n",
              "\n",
              "          const docLinkHtml = 'Like what you see? Visit the ' +\n",
              "            '<a target=\"_blank\" href=https://colab.research.google.com/notebooks/data_table.ipynb>data table notebook</a>'\n",
              "            + ' to learn more about interactive tables.';\n",
              "          element.innerHTML = '';\n",
              "          dataTable['output_type'] = 'display_data';\n",
              "          await google.colab.output.renderOutput(dataTable, element);\n",
              "          const docLink = document.createElement('div');\n",
              "          docLink.innerHTML = docLinkHtml;\n",
              "          element.appendChild(docLink);\n",
              "        }\n",
              "      </script>\n",
              "    </div>\n",
              "  </div>\n",
              "  "
            ],
            "text/plain": [
              "                                                   tweet  ...    who\n",
              "604    Hey Trump... NO MORE YEARS!!!  realDonaldTrump...  ...  biden\n",
              "1485   Yes, JoeBiden, I would like a fair shot, too. ...  ...  biden\n",
              "2706   Joe Biden was more decisive than you think .CN...  ...  biden\n",
              "4022   realDonaldTrump BreitbartNews This is the stuf...  ...  biden\n",
              "5217   My thumb hurts from liking all your celebrator...  ...  biden\n",
              "...                                                  ...  ...    ...\n",
              "48373  What stage is Trump and his closest followers ...  ...  biden\n",
              "48556  At times like these, it's best to say \"that go...  ...  biden\n",
              "48570  Seriously what are the odds JoeBiden makes it ...  ...  biden\n",
              "48716  KamalaHarris  is our first female Vice Preside...  ...  biden\n",
              "48753  Deb4CongressNM JoeBiden JoeBiden KamalaHarris ...  ...  biden\n",
              "\n",
              "[48988 rows x 6 columns]"
            ]
          },
          "metadata": {},
          "execution_count": 38
        }
      ]
    },
    {
      "cell_type": "code",
      "source": [
        "batch_size = 100"
      ],
      "metadata": {
        "id": "kVJFjgWtdbog"
      },
      "execution_count": null,
      "outputs": []
    },
    {
      "cell_type": "code",
      "source": [
        "from tqdm.auto import tqdm\n",
        "import tensorflow as tf\n",
        "\n",
        "def emotion_classify(tweet_list):\n",
        "    batch_idx = np.append(np.arange(0, len(tweet_list), batch_size), len(tweet_list))\n",
        "    labels = np.array([])\n",
        "    for i in tqdm(range(len(batch_idx)-1)):\n",
        "        tf_batch = tokenizer(tweet_list[batch_idx[i]:batch_idx[i+1]], max_length=280, padding=True, truncation=True, return_tensors='tf')\n",
        "        tf_outputs = model(tf_batch)\n",
        "        tf_predictions = tf.nn.softmax(tf_outputs[0], axis=-1)\n",
        "        labels = np.append(labels, tf.argmax(tf_predictions, axis=1))\n",
        "#         labels = np.append(labels, tf_predictions[:,1])\n",
        "        del tf_batch\n",
        "    return labels"
      ],
      "metadata": {
        "id": "5YmDGg8RdePM"
      },
      "execution_count": null,
      "outputs": []
    },
    {
      "cell_type": "code",
      "source": [
        "dem_states = set(['DC', 'VT', 'HI', 'MA', 'MD', 'CA', 'NY', 'RI', 'DE', \n",
        "                 'CT', 'WA', 'ME', 'NJ', 'OR', 'IL'])\n",
        "rep_states = set(['OH', 'IA', 'TX', 'MT', 'SC', 'AK', 'MO', 'IN', 'NE',\n",
        "                 'KS', 'UT', 'MS', 'TN', 'SD', 'KY', 'LA', 'AL', 'ND',\n",
        "                 'ID', 'AR', 'OK', 'WV', 'WY'])\n",
        "swing_states = states_list - dem_states - rep_states"
      ],
      "metadata": {
        "id": "v9TSgoTedkea"
      },
      "execution_count": null,
      "outputs": []
    },
    {
      "cell_type": "code",
      "source": [
        "electoral_vote_by_state = pd.read_csv(\"/content/drive/MyDrive/MASTERS FOLDER/CS855/US_Elections_Data_Downloads/US_elections/electoral_vote_by_state.csv\")\n"
      ],
      "metadata": {
        "id": "mmnXxVI6dlgM"
      },
      "execution_count": null,
      "outputs": []
    },
    {
      "cell_type": "code",
      "source": [
        "states_results = pd.DataFrame(columns=['state_code', 'biden', 'trump', 'type', 'winner'])"
      ],
      "metadata": {
        "id": "ZoMr9dL0e1W7"
      },
      "execution_count": null,
      "outputs": []
    },
    {
      "cell_type": "code",
      "source": [
        "states_results.loc[:,'state_code'] = electoral_vote_by_state['state_code']\n",
        "states_results.loc[:,'e_vote'] = electoral_vote_by_state['e_vote']"
      ],
      "metadata": {
        "id": "dJMLJ119e4YL"
      },
      "execution_count": null,
      "outputs": []
    },
    {
      "cell_type": "code",
      "source": [
        "type_vs_candidate = {'blue': 'biden', 'red': 'trump', 'purple': 'contentious'}\n",
        "threshold = 1.15\n",
        "for state in states_list:\n",
        "    trump_slice = balance_data_df.query(f'state_code == \"{state}\" and who == \"trump\"')\n",
        "    biden_slice = balance_data_df.query(f'state_code == \"{state}\" and who == \"biden\"')\n",
        "    trump_score = np.sum(trump_slice['sentiment']) + 1\n",
        "    biden_score = np.sum(biden_slice['sentiment']) + 1\n",
        "    \n",
        "    state_type = ''\n",
        "    if state in dem_states:\n",
        "        state_type = 'blue'\n",
        "    elif state in rep_states:\n",
        "        state_type = 'red'\n",
        "    else:\n",
        "        state_type = 'purple'\n",
        "        \n",
        "    winner = ''\n",
        "    if len(trump_slice) + len(biden_slice) < 1000:\n",
        "        winner = type_vs_candidate[state_type]\n",
        "    else:\n",
        "        if trump_score/biden_score > threshold:\n",
        "            winner = 'trump'\n",
        "        elif biden_score/trump_score > threshold:\n",
        "            winner = 'biden'\n",
        "        else:\n",
        "            winner = 'contentious'\n",
        "        \n",
        "    states_results.loc[states_results['state_code'] == state, ['biden', 'trump', 'type', 'winner']] = \\\n",
        "        [biden_score, trump_score, state_type, winner]"
      ],
      "metadata": {
        "id": "qUMV2co2f6db"
      },
      "execution_count": null,
      "outputs": []
    },
    {
      "cell_type": "code",
      "source": [
        "states_results.query('winner==\"contentious\"')"
      ],
      "metadata": {
        "colab": {
          "base_uri": "https://localhost:8080/",
          "height": 708
        },
        "id": "WJHkKJsQgGwL",
        "outputId": "ebe7939f-406d-4c44-cb4a-4d4c764b402f"
      },
      "execution_count": null,
      "outputs": [
        {
          "output_type": "execute_result",
          "data": {
            "text/html": [
              "\n",
              "  <div id=\"df-958d1b59-0d02-47c5-9aa7-0b1139f86180\">\n",
              "    <div class=\"colab-df-container\">\n",
              "      <div>\n",
              "<style scoped>\n",
              "    .dataframe tbody tr th:only-of-type {\n",
              "        vertical-align: middle;\n",
              "    }\n",
              "\n",
              "    .dataframe tbody tr th {\n",
              "        vertical-align: top;\n",
              "    }\n",
              "\n",
              "    .dataframe thead th {\n",
              "        text-align: right;\n",
              "    }\n",
              "</style>\n",
              "<table border=\"1\" class=\"dataframe\">\n",
              "  <thead>\n",
              "    <tr style=\"text-align: right;\">\n",
              "      <th></th>\n",
              "      <th>state_code</th>\n",
              "      <th>biden</th>\n",
              "      <th>trump</th>\n",
              "      <th>type</th>\n",
              "      <th>winner</th>\n",
              "      <th>e_vote</th>\n",
              "    </tr>\n",
              "  </thead>\n",
              "  <tbody>\n",
              "    <tr>\n",
              "      <th>4</th>\n",
              "      <td>AZ</td>\n",
              "      <td>1</td>\n",
              "      <td>1</td>\n",
              "      <td>purple</td>\n",
              "      <td>contentious</td>\n",
              "      <td>11</td>\n",
              "    </tr>\n",
              "    <tr>\n",
              "      <th>5</th>\n",
              "      <td>NV</td>\n",
              "      <td>1</td>\n",
              "      <td>1</td>\n",
              "      <td>purple</td>\n",
              "      <td>contentious</td>\n",
              "      <td>6</td>\n",
              "    </tr>\n",
              "    <tr>\n",
              "      <th>7</th>\n",
              "      <td>NH</td>\n",
              "      <td>1</td>\n",
              "      <td>1</td>\n",
              "      <td>purple</td>\n",
              "      <td>contentious</td>\n",
              "      <td>4</td>\n",
              "    </tr>\n",
              "    <tr>\n",
              "      <th>8</th>\n",
              "      <td>CA</td>\n",
              "      <td>1</td>\n",
              "      <td>1</td>\n",
              "      <td>blue</td>\n",
              "      <td>contentious</td>\n",
              "      <td>55</td>\n",
              "    </tr>\n",
              "    <tr>\n",
              "      <th>9</th>\n",
              "      <td>NJ</td>\n",
              "      <td>1</td>\n",
              "      <td>1</td>\n",
              "      <td>blue</td>\n",
              "      <td>contentious</td>\n",
              "      <td>14</td>\n",
              "    </tr>\n",
              "    <tr>\n",
              "      <th>10</th>\n",
              "      <td>CO</td>\n",
              "      <td>1</td>\n",
              "      <td>1</td>\n",
              "      <td>purple</td>\n",
              "      <td>contentious</td>\n",
              "      <td>9</td>\n",
              "    </tr>\n",
              "    <tr>\n",
              "      <th>11</th>\n",
              "      <td>NM</td>\n",
              "      <td>1</td>\n",
              "      <td>1</td>\n",
              "      <td>purple</td>\n",
              "      <td>contentious</td>\n",
              "      <td>5</td>\n",
              "    </tr>\n",
              "    <tr>\n",
              "      <th>13</th>\n",
              "      <td>NY</td>\n",
              "      <td>1</td>\n",
              "      <td>1</td>\n",
              "      <td>blue</td>\n",
              "      <td>contentious</td>\n",
              "      <td>29</td>\n",
              "    </tr>\n",
              "    <tr>\n",
              "      <th>15</th>\n",
              "      <td>NC</td>\n",
              "      <td>1</td>\n",
              "      <td>1</td>\n",
              "      <td>purple</td>\n",
              "      <td>contentious</td>\n",
              "      <td>15</td>\n",
              "    </tr>\n",
              "    <tr>\n",
              "      <th>16</th>\n",
              "      <td>DC</td>\n",
              "      <td>1</td>\n",
              "      <td>1</td>\n",
              "      <td>blue</td>\n",
              "      <td>contentious</td>\n",
              "      <td>3</td>\n",
              "    </tr>\n",
              "    <tr>\n",
              "      <th>18</th>\n",
              "      <td>FL</td>\n",
              "      <td>1</td>\n",
              "      <td>1</td>\n",
              "      <td>purple</td>\n",
              "      <td>contentious</td>\n",
              "      <td>29</td>\n",
              "    </tr>\n",
              "    <tr>\n",
              "      <th>19</th>\n",
              "      <td>OH</td>\n",
              "      <td>1</td>\n",
              "      <td>1</td>\n",
              "      <td>red</td>\n",
              "      <td>contentious</td>\n",
              "      <td>18</td>\n",
              "    </tr>\n",
              "    <tr>\n",
              "      <th>20</th>\n",
              "      <td>GA</td>\n",
              "      <td>1</td>\n",
              "      <td>1</td>\n",
              "      <td>purple</td>\n",
              "      <td>contentious</td>\n",
              "      <td>16</td>\n",
              "    </tr>\n",
              "    <tr>\n",
              "      <th>25</th>\n",
              "      <td>PA</td>\n",
              "      <td>1</td>\n",
              "      <td>1</td>\n",
              "      <td>purple</td>\n",
              "      <td>contentious</td>\n",
              "      <td>20</td>\n",
              "    </tr>\n",
              "    <tr>\n",
              "      <th>26</th>\n",
              "      <td>IL</td>\n",
              "      <td>1</td>\n",
              "      <td>1</td>\n",
              "      <td>blue</td>\n",
              "      <td>contentious</td>\n",
              "      <td>20</td>\n",
              "    </tr>\n",
              "    <tr>\n",
              "      <th>35</th>\n",
              "      <td>TX</td>\n",
              "      <td>1</td>\n",
              "      <td>1</td>\n",
              "      <td>red</td>\n",
              "      <td>contentious</td>\n",
              "      <td>38</td>\n",
              "    </tr>\n",
              "    <tr>\n",
              "      <th>41</th>\n",
              "      <td>VA</td>\n",
              "      <td>1</td>\n",
              "      <td>1</td>\n",
              "      <td>purple</td>\n",
              "      <td>contentious</td>\n",
              "      <td>13</td>\n",
              "    </tr>\n",
              "    <tr>\n",
              "      <th>42</th>\n",
              "      <td>MA</td>\n",
              "      <td>1</td>\n",
              "      <td>1</td>\n",
              "      <td>blue</td>\n",
              "      <td>contentious</td>\n",
              "      <td>11</td>\n",
              "    </tr>\n",
              "    <tr>\n",
              "      <th>44</th>\n",
              "      <td>MI</td>\n",
              "      <td>1</td>\n",
              "      <td>1</td>\n",
              "      <td>purple</td>\n",
              "      <td>contentious</td>\n",
              "      <td>16</td>\n",
              "    </tr>\n",
              "    <tr>\n",
              "      <th>46</th>\n",
              "      <td>MN</td>\n",
              "      <td>1</td>\n",
              "      <td>1</td>\n",
              "      <td>purple</td>\n",
              "      <td>contentious</td>\n",
              "      <td>10</td>\n",
              "    </tr>\n",
              "    <tr>\n",
              "      <th>47</th>\n",
              "      <td>WI</td>\n",
              "      <td>1</td>\n",
              "      <td>1</td>\n",
              "      <td>purple</td>\n",
              "      <td>contentious</td>\n",
              "      <td>10</td>\n",
              "    </tr>\n",
              "  </tbody>\n",
              "</table>\n",
              "</div>\n",
              "      <button class=\"colab-df-convert\" onclick=\"convertToInteractive('df-958d1b59-0d02-47c5-9aa7-0b1139f86180')\"\n",
              "              title=\"Convert this dataframe to an interactive table.\"\n",
              "              style=\"display:none;\">\n",
              "        \n",
              "  <svg xmlns=\"http://www.w3.org/2000/svg\" height=\"24px\"viewBox=\"0 0 24 24\"\n",
              "       width=\"24px\">\n",
              "    <path d=\"M0 0h24v24H0V0z\" fill=\"none\"/>\n",
              "    <path d=\"M18.56 5.44l.94 2.06.94-2.06 2.06-.94-2.06-.94-.94-2.06-.94 2.06-2.06.94zm-11 1L8.5 8.5l.94-2.06 2.06-.94-2.06-.94L8.5 2.5l-.94 2.06-2.06.94zm10 10l.94 2.06.94-2.06 2.06-.94-2.06-.94-.94-2.06-.94 2.06-2.06.94z\"/><path d=\"M17.41 7.96l-1.37-1.37c-.4-.4-.92-.59-1.43-.59-.52 0-1.04.2-1.43.59L10.3 9.45l-7.72 7.72c-.78.78-.78 2.05 0 2.83L4 21.41c.39.39.9.59 1.41.59.51 0 1.02-.2 1.41-.59l7.78-7.78 2.81-2.81c.8-.78.8-2.07 0-2.86zM5.41 20L4 18.59l7.72-7.72 1.47 1.35L5.41 20z\"/>\n",
              "  </svg>\n",
              "      </button>\n",
              "      \n",
              "  <style>\n",
              "    .colab-df-container {\n",
              "      display:flex;\n",
              "      flex-wrap:wrap;\n",
              "      gap: 12px;\n",
              "    }\n",
              "\n",
              "    .colab-df-convert {\n",
              "      background-color: #E8F0FE;\n",
              "      border: none;\n",
              "      border-radius: 50%;\n",
              "      cursor: pointer;\n",
              "      display: none;\n",
              "      fill: #1967D2;\n",
              "      height: 32px;\n",
              "      padding: 0 0 0 0;\n",
              "      width: 32px;\n",
              "    }\n",
              "\n",
              "    .colab-df-convert:hover {\n",
              "      background-color: #E2EBFA;\n",
              "      box-shadow: 0px 1px 2px rgba(60, 64, 67, 0.3), 0px 1px 3px 1px rgba(60, 64, 67, 0.15);\n",
              "      fill: #174EA6;\n",
              "    }\n",
              "\n",
              "    [theme=dark] .colab-df-convert {\n",
              "      background-color: #3B4455;\n",
              "      fill: #D2E3FC;\n",
              "    }\n",
              "\n",
              "    [theme=dark] .colab-df-convert:hover {\n",
              "      background-color: #434B5C;\n",
              "      box-shadow: 0px 1px 3px 1px rgba(0, 0, 0, 0.15);\n",
              "      filter: drop-shadow(0px 1px 2px rgba(0, 0, 0, 0.3));\n",
              "      fill: #FFFFFF;\n",
              "    }\n",
              "  </style>\n",
              "\n",
              "      <script>\n",
              "        const buttonEl =\n",
              "          document.querySelector('#df-958d1b59-0d02-47c5-9aa7-0b1139f86180 button.colab-df-convert');\n",
              "        buttonEl.style.display =\n",
              "          google.colab.kernel.accessAllowed ? 'block' : 'none';\n",
              "\n",
              "        async function convertToInteractive(key) {\n",
              "          const element = document.querySelector('#df-958d1b59-0d02-47c5-9aa7-0b1139f86180');\n",
              "          const dataTable =\n",
              "            await google.colab.kernel.invokeFunction('convertToInteractive',\n",
              "                                                     [key], {});\n",
              "          if (!dataTable) return;\n",
              "\n",
              "          const docLinkHtml = 'Like what you see? Visit the ' +\n",
              "            '<a target=\"_blank\" href=https://colab.research.google.com/notebooks/data_table.ipynb>data table notebook</a>'\n",
              "            + ' to learn more about interactive tables.';\n",
              "          element.innerHTML = '';\n",
              "          dataTable['output_type'] = 'display_data';\n",
              "          await google.colab.output.renderOutput(dataTable, element);\n",
              "          const docLink = document.createElement('div');\n",
              "          docLink.innerHTML = docLinkHtml;\n",
              "          element.appendChild(docLink);\n",
              "        }\n",
              "      </script>\n",
              "    </div>\n",
              "  </div>\n",
              "  "
            ],
            "text/plain": [
              "   state_code biden trump    type       winner  e_vote\n",
              "4          AZ     1     1  purple  contentious      11\n",
              "5          NV     1     1  purple  contentious       6\n",
              "7          NH     1     1  purple  contentious       4\n",
              "8          CA     1     1    blue  contentious      55\n",
              "9          NJ     1     1    blue  contentious      14\n",
              "10         CO     1     1  purple  contentious       9\n",
              "11         NM     1     1  purple  contentious       5\n",
              "13         NY     1     1    blue  contentious      29\n",
              "15         NC     1     1  purple  contentious      15\n",
              "16         DC     1     1    blue  contentious       3\n",
              "18         FL     1     1  purple  contentious      29\n",
              "19         OH     1     1     red  contentious      18\n",
              "20         GA     1     1  purple  contentious      16\n",
              "25         PA     1     1  purple  contentious      20\n",
              "26         IL     1     1    blue  contentious      20\n",
              "35         TX     1     1     red  contentious      38\n",
              "41         VA     1     1  purple  contentious      13\n",
              "42         MA     1     1    blue  contentious      11\n",
              "44         MI     1     1  purple  contentious      16\n",
              "46         MN     1     1  purple  contentious      10\n",
              "47         WI     1     1  purple  contentious      10"
            ]
          },
          "metadata": {},
          "execution_count": 50
        }
      ]
    },
    {
      "cell_type": "code",
      "source": [
        "import itertools"
      ],
      "metadata": {
        "id": "24vj7acvgds4"
      },
      "execution_count": null,
      "outputs": []
    },
    {
      "cell_type": "code",
      "source": [
        "states_results = pd.read_csv('/content/drive/MyDrive/MASTERS FOLDER/CS855/US_Elections_Data_Downloads/US_elections/state_results_100_conti.csv')"
      ],
      "metadata": {
        "id": "GgKrmWQogeyw"
      },
      "execution_count": null,
      "outputs": []
    },
    {
      "cell_type": "code",
      "source": [
        "contentious_states = states_results.loc[states_results['winner'] == 'contentious',['state_code', 'e_vote']]\n",
        "contentious_states"
      ],
      "metadata": {
        "colab": {
          "base_uri": "https://localhost:8080/",
          "height": 1000
        },
        "id": "r5WOVGUCgkSh",
        "outputId": "7c1265cf-fd5b-4462-ce43-08f63888b52a"
      },
      "execution_count": null,
      "outputs": [
        {
          "output_type": "execute_result",
          "data": {
            "text/html": [
              "\n",
              "  <div id=\"df-71e04d34-03cd-4e1f-9ba5-c7b397c8671f\">\n",
              "    <div class=\"colab-df-container\">\n",
              "      <div>\n",
              "<style scoped>\n",
              "    .dataframe tbody tr th:only-of-type {\n",
              "        vertical-align: middle;\n",
              "    }\n",
              "\n",
              "    .dataframe tbody tr th {\n",
              "        vertical-align: top;\n",
              "    }\n",
              "\n",
              "    .dataframe thead th {\n",
              "        text-align: right;\n",
              "    }\n",
              "</style>\n",
              "<table border=\"1\" class=\"dataframe\">\n",
              "  <thead>\n",
              "    <tr style=\"text-align: right;\">\n",
              "      <th></th>\n",
              "      <th>state_code</th>\n",
              "      <th>e_vote</th>\n",
              "    </tr>\n",
              "  </thead>\n",
              "  <tbody>\n",
              "    <tr>\n",
              "      <th>0</th>\n",
              "      <td>AL</td>\n",
              "      <td>9</td>\n",
              "    </tr>\n",
              "    <tr>\n",
              "      <th>4</th>\n",
              "      <td>AZ</td>\n",
              "      <td>11</td>\n",
              "    </tr>\n",
              "    <tr>\n",
              "      <th>5</th>\n",
              "      <td>NV</td>\n",
              "      <td>6</td>\n",
              "    </tr>\n",
              "    <tr>\n",
              "      <th>7</th>\n",
              "      <td>NH</td>\n",
              "      <td>4</td>\n",
              "    </tr>\n",
              "    <tr>\n",
              "      <th>8</th>\n",
              "      <td>CA</td>\n",
              "      <td>55</td>\n",
              "    </tr>\n",
              "    <tr>\n",
              "      <th>9</th>\n",
              "      <td>NJ</td>\n",
              "      <td>14</td>\n",
              "    </tr>\n",
              "    <tr>\n",
              "      <th>10</th>\n",
              "      <td>CO</td>\n",
              "      <td>9</td>\n",
              "    </tr>\n",
              "    <tr>\n",
              "      <th>11</th>\n",
              "      <td>NM</td>\n",
              "      <td>5</td>\n",
              "    </tr>\n",
              "    <tr>\n",
              "      <th>12</th>\n",
              "      <td>CT</td>\n",
              "      <td>7</td>\n",
              "    </tr>\n",
              "    <tr>\n",
              "      <th>13</th>\n",
              "      <td>NY</td>\n",
              "      <td>29</td>\n",
              "    </tr>\n",
              "    <tr>\n",
              "      <th>15</th>\n",
              "      <td>NC</td>\n",
              "      <td>15</td>\n",
              "    </tr>\n",
              "    <tr>\n",
              "      <th>16</th>\n",
              "      <td>DC</td>\n",
              "      <td>3</td>\n",
              "    </tr>\n",
              "    <tr>\n",
              "      <th>18</th>\n",
              "      <td>FL</td>\n",
              "      <td>29</td>\n",
              "    </tr>\n",
              "    <tr>\n",
              "      <th>19</th>\n",
              "      <td>OH</td>\n",
              "      <td>18</td>\n",
              "    </tr>\n",
              "    <tr>\n",
              "      <th>20</th>\n",
              "      <td>GA</td>\n",
              "      <td>16</td>\n",
              "    </tr>\n",
              "    <tr>\n",
              "      <th>21</th>\n",
              "      <td>OK</td>\n",
              "      <td>7</td>\n",
              "    </tr>\n",
              "    <tr>\n",
              "      <th>22</th>\n",
              "      <td>HI</td>\n",
              "      <td>4</td>\n",
              "    </tr>\n",
              "    <tr>\n",
              "      <th>23</th>\n",
              "      <td>OR</td>\n",
              "      <td>7</td>\n",
              "    </tr>\n",
              "    <tr>\n",
              "      <th>25</th>\n",
              "      <td>PA</td>\n",
              "      <td>20</td>\n",
              "    </tr>\n",
              "    <tr>\n",
              "      <th>26</th>\n",
              "      <td>IL</td>\n",
              "      <td>20</td>\n",
              "    </tr>\n",
              "    <tr>\n",
              "      <th>28</th>\n",
              "      <td>IN</td>\n",
              "      <td>11</td>\n",
              "    </tr>\n",
              "    <tr>\n",
              "      <th>29</th>\n",
              "      <td>SC</td>\n",
              "      <td>9</td>\n",
              "    </tr>\n",
              "    <tr>\n",
              "      <th>30</th>\n",
              "      <td>IA</td>\n",
              "      <td>6</td>\n",
              "    </tr>\n",
              "    <tr>\n",
              "      <th>32</th>\n",
              "      <td>KS</td>\n",
              "      <td>6</td>\n",
              "    </tr>\n",
              "    <tr>\n",
              "      <th>33</th>\n",
              "      <td>TN</td>\n",
              "      <td>11</td>\n",
              "    </tr>\n",
              "    <tr>\n",
              "      <th>34</th>\n",
              "      <td>KY</td>\n",
              "      <td>8</td>\n",
              "    </tr>\n",
              "    <tr>\n",
              "      <th>35</th>\n",
              "      <td>TX</td>\n",
              "      <td>38</td>\n",
              "    </tr>\n",
              "    <tr>\n",
              "      <th>36</th>\n",
              "      <td>LA</td>\n",
              "      <td>8</td>\n",
              "    </tr>\n",
              "    <tr>\n",
              "      <th>37</th>\n",
              "      <td>UT</td>\n",
              "      <td>6</td>\n",
              "    </tr>\n",
              "    <tr>\n",
              "      <th>40</th>\n",
              "      <td>MD</td>\n",
              "      <td>10</td>\n",
              "    </tr>\n",
              "    <tr>\n",
              "      <th>41</th>\n",
              "      <td>VA</td>\n",
              "      <td>13</td>\n",
              "    </tr>\n",
              "    <tr>\n",
              "      <th>42</th>\n",
              "      <td>MA</td>\n",
              "      <td>11</td>\n",
              "    </tr>\n",
              "    <tr>\n",
              "      <th>43</th>\n",
              "      <td>WA</td>\n",
              "      <td>12</td>\n",
              "    </tr>\n",
              "    <tr>\n",
              "      <th>44</th>\n",
              "      <td>MI</td>\n",
              "      <td>16</td>\n",
              "    </tr>\n",
              "    <tr>\n",
              "      <th>46</th>\n",
              "      <td>MN</td>\n",
              "      <td>10</td>\n",
              "    </tr>\n",
              "    <tr>\n",
              "      <th>47</th>\n",
              "      <td>WI</td>\n",
              "      <td>10</td>\n",
              "    </tr>\n",
              "    <tr>\n",
              "      <th>50</th>\n",
              "      <td>MO</td>\n",
              "      <td>10</td>\n",
              "    </tr>\n",
              "  </tbody>\n",
              "</table>\n",
              "</div>\n",
              "      <button class=\"colab-df-convert\" onclick=\"convertToInteractive('df-71e04d34-03cd-4e1f-9ba5-c7b397c8671f')\"\n",
              "              title=\"Convert this dataframe to an interactive table.\"\n",
              "              style=\"display:none;\">\n",
              "        \n",
              "  <svg xmlns=\"http://www.w3.org/2000/svg\" height=\"24px\"viewBox=\"0 0 24 24\"\n",
              "       width=\"24px\">\n",
              "    <path d=\"M0 0h24v24H0V0z\" fill=\"none\"/>\n",
              "    <path d=\"M18.56 5.44l.94 2.06.94-2.06 2.06-.94-2.06-.94-.94-2.06-.94 2.06-2.06.94zm-11 1L8.5 8.5l.94-2.06 2.06-.94-2.06-.94L8.5 2.5l-.94 2.06-2.06.94zm10 10l.94 2.06.94-2.06 2.06-.94-2.06-.94-.94-2.06-.94 2.06-2.06.94z\"/><path d=\"M17.41 7.96l-1.37-1.37c-.4-.4-.92-.59-1.43-.59-.52 0-1.04.2-1.43.59L10.3 9.45l-7.72 7.72c-.78.78-.78 2.05 0 2.83L4 21.41c.39.39.9.59 1.41.59.51 0 1.02-.2 1.41-.59l7.78-7.78 2.81-2.81c.8-.78.8-2.07 0-2.86zM5.41 20L4 18.59l7.72-7.72 1.47 1.35L5.41 20z\"/>\n",
              "  </svg>\n",
              "      </button>\n",
              "      \n",
              "  <style>\n",
              "    .colab-df-container {\n",
              "      display:flex;\n",
              "      flex-wrap:wrap;\n",
              "      gap: 12px;\n",
              "    }\n",
              "\n",
              "    .colab-df-convert {\n",
              "      background-color: #E8F0FE;\n",
              "      border: none;\n",
              "      border-radius: 50%;\n",
              "      cursor: pointer;\n",
              "      display: none;\n",
              "      fill: #1967D2;\n",
              "      height: 32px;\n",
              "      padding: 0 0 0 0;\n",
              "      width: 32px;\n",
              "    }\n",
              "\n",
              "    .colab-df-convert:hover {\n",
              "      background-color: #E2EBFA;\n",
              "      box-shadow: 0px 1px 2px rgba(60, 64, 67, 0.3), 0px 1px 3px 1px rgba(60, 64, 67, 0.15);\n",
              "      fill: #174EA6;\n",
              "    }\n",
              "\n",
              "    [theme=dark] .colab-df-convert {\n",
              "      background-color: #3B4455;\n",
              "      fill: #D2E3FC;\n",
              "    }\n",
              "\n",
              "    [theme=dark] .colab-df-convert:hover {\n",
              "      background-color: #434B5C;\n",
              "      box-shadow: 0px 1px 3px 1px rgba(0, 0, 0, 0.15);\n",
              "      filter: drop-shadow(0px 1px 2px rgba(0, 0, 0, 0.3));\n",
              "      fill: #FFFFFF;\n",
              "    }\n",
              "  </style>\n",
              "\n",
              "      <script>\n",
              "        const buttonEl =\n",
              "          document.querySelector('#df-71e04d34-03cd-4e1f-9ba5-c7b397c8671f button.colab-df-convert');\n",
              "        buttonEl.style.display =\n",
              "          google.colab.kernel.accessAllowed ? 'block' : 'none';\n",
              "\n",
              "        async function convertToInteractive(key) {\n",
              "          const element = document.querySelector('#df-71e04d34-03cd-4e1f-9ba5-c7b397c8671f');\n",
              "          const dataTable =\n",
              "            await google.colab.kernel.invokeFunction('convertToInteractive',\n",
              "                                                     [key], {});\n",
              "          if (!dataTable) return;\n",
              "\n",
              "          const docLinkHtml = 'Like what you see? Visit the ' +\n",
              "            '<a target=\"_blank\" href=https://colab.research.google.com/notebooks/data_table.ipynb>data table notebook</a>'\n",
              "            + ' to learn more about interactive tables.';\n",
              "          element.innerHTML = '';\n",
              "          dataTable['output_type'] = 'display_data';\n",
              "          await google.colab.output.renderOutput(dataTable, element);\n",
              "          const docLink = document.createElement('div');\n",
              "          docLink.innerHTML = docLinkHtml;\n",
              "          element.appendChild(docLink);\n",
              "        }\n",
              "      </script>\n",
              "    </div>\n",
              "  </div>\n",
              "  "
            ],
            "text/plain": [
              "   state_code  e_vote\n",
              "0          AL       9\n",
              "4          AZ      11\n",
              "5          NV       6\n",
              "7          NH       4\n",
              "8          CA      55\n",
              "9          NJ      14\n",
              "10         CO       9\n",
              "11         NM       5\n",
              "12         CT       7\n",
              "13         NY      29\n",
              "15         NC      15\n",
              "16         DC       3\n",
              "18         FL      29\n",
              "19         OH      18\n",
              "20         GA      16\n",
              "21         OK       7\n",
              "22         HI       4\n",
              "23         OR       7\n",
              "25         PA      20\n",
              "26         IL      20\n",
              "28         IN      11\n",
              "29         SC       9\n",
              "30         IA       6\n",
              "32         KS       6\n",
              "33         TN      11\n",
              "34         KY       8\n",
              "35         TX      38\n",
              "36         LA       8\n",
              "37         UT       6\n",
              "40         MD      10\n",
              "41         VA      13\n",
              "42         MA      11\n",
              "43         WA      12\n",
              "44         MI      16\n",
              "46         MN      10\n",
              "47         WI      10\n",
              "50         MO      10"
            ]
          },
          "metadata": {},
          "execution_count": 53
        }
      ]
    },
    {
      "cell_type": "code",
      "source": [
        "get_bin = lambda x, n: format(x, 'b').zfill(n)"
      ],
      "metadata": {
        "id": "CiqwXqkignMU"
      },
      "execution_count": null,
      "outputs": []
    },
    {
      "cell_type": "code",
      "source": [
        "num_vote_to_win = 270\n",
        "trump_vote = np.sum(states_results[states_results['winner'] == 'trump']['e_vote'])\n",
        "biden_vote = np.sum(states_results[states_results['winner'] == 'biden']['e_vote'])\n",
        "print(trump_vote, biden_vote)"
      ],
      "metadata": {
        "colab": {
          "base_uri": "https://localhost:8080/"
        },
        "id": "KOo0K0Jmg1xl",
        "outputId": "9c675498-43ed-4a3a-b7f6-f598a14efbc9"
      },
      "execution_count": null,
      "outputs": [
        {
          "output_type": "stream",
          "name": "stdout",
          "text": [
            "41 14\n"
          ]
        }
      ]
    },
    {
      "cell_type": "code",
      "source": [
        "!pip install geopandas\n",
        "import geopandas as gpd\n",
        "import matplotlib.pyplot as plt\n",
        "\n",
        "us_shape = gpd.read_file('/content/drive/MyDrive/MASTERS FOLDER/CS855/US_Elections_Data_Downloads/US_elections/us_shape/cb_2018_us_state_20m.shp')\n",
        "us_shape = us_shape[['STUSPS', 'geometry']]\n",
        "states_results_tmp = states_results.copy()\n",
        "states_results_tmp = states_results_tmp.merge(us_shape, left_on='state_code', right_on='STUSPS')\n",
        "states_results_tmp.drop(['STUSPS'], axis=1, inplace=True)\n",
        "states_results_tmp = gpd.GeoDataFrame(states_results_tmp)\n",
        "\n",
        "states_results_tmp.columns"
      ],
      "metadata": {
        "colab": {
          "base_uri": "https://localhost:8080/"
        },
        "id": "vL6Bu7tMywGd",
        "outputId": "7f6a9176-c164-4179-840d-4efcea61003f"
      },
      "execution_count": null,
      "outputs": [
        {
          "output_type": "stream",
          "name": "stdout",
          "text": [
            "Requirement already satisfied: geopandas in /usr/local/lib/python3.7/dist-packages (0.10.2)\n",
            "Requirement already satisfied: shapely>=1.6 in /usr/local/lib/python3.7/dist-packages (from geopandas) (1.8.0)\n",
            "Requirement already satisfied: pyproj>=2.2.0 in /usr/local/lib/python3.7/dist-packages (from geopandas) (3.2.1)\n",
            "Requirement already satisfied: fiona>=1.8 in /usr/local/lib/python3.7/dist-packages (from geopandas) (1.8.20)\n",
            "Requirement already satisfied: pandas>=0.25.0 in /usr/local/lib/python3.7/dist-packages (from geopandas) (1.1.5)\n",
            "Requirement already satisfied: six>=1.7 in /usr/local/lib/python3.7/dist-packages (from fiona>=1.8->geopandas) (1.15.0)\n",
            "Requirement already satisfied: cligj>=0.5 in /usr/local/lib/python3.7/dist-packages (from fiona>=1.8->geopandas) (0.7.2)\n",
            "Requirement already satisfied: setuptools in /usr/local/lib/python3.7/dist-packages (from fiona>=1.8->geopandas) (57.4.0)\n",
            "Requirement already satisfied: attrs>=17 in /usr/local/lib/python3.7/dist-packages (from fiona>=1.8->geopandas) (21.2.0)\n",
            "Requirement already satisfied: certifi in /usr/local/lib/python3.7/dist-packages (from fiona>=1.8->geopandas) (2021.10.8)\n",
            "Requirement already satisfied: click>=4.0 in /usr/local/lib/python3.7/dist-packages (from fiona>=1.8->geopandas) (7.1.2)\n",
            "Requirement already satisfied: munch in /usr/local/lib/python3.7/dist-packages (from fiona>=1.8->geopandas) (2.5.0)\n",
            "Requirement already satisfied: click-plugins>=1.0 in /usr/local/lib/python3.7/dist-packages (from fiona>=1.8->geopandas) (1.1.1)\n",
            "Requirement already satisfied: numpy>=1.15.4 in /usr/local/lib/python3.7/dist-packages (from pandas>=0.25.0->geopandas) (1.19.5)\n",
            "Requirement already satisfied: python-dateutil>=2.7.3 in /usr/local/lib/python3.7/dist-packages (from pandas>=0.25.0->geopandas) (2.8.2)\n",
            "Requirement already satisfied: pytz>=2017.2 in /usr/local/lib/python3.7/dist-packages (from pandas>=0.25.0->geopandas) (2018.9)\n"
          ]
        },
        {
          "output_type": "execute_result",
          "data": {
            "text/plain": [
              "Index(['state_code', 'biden', 'trump', 'type', 'winner', 'e_vote', 'geometry'], dtype='object')"
            ]
          },
          "metadata": {},
          "execution_count": 56
        }
      ]
    },
    {
      "cell_type": "code",
      "source": [
        "fig, ax = plt.subplots(1, 1, figsize=(15,15))\n",
        "states_results_tmp.apply(lambda x: ax.annotate(s=x.state_code, xy=x.geometry.centroid.coords[0], ha='center', fontsize=9, color='white'),axis=1);\n",
        "states_results_tmp[states_results_tmp['winner'] == 'trump'].plot(ax=ax, color='red')\n",
        "states_results_tmp[states_results_tmp['winner'] == 'biden'].plot(ax=ax, color='blue')\n",
        "states_results_tmp[states_results_tmp['winner'] == 'contentious'].plot(ax=ax, color='purple')\n",
        "plt.axis('square')\n",
        "ax.set_xlim([-180, -60])\n",
        "ax.set_ylim([10, 80])\n",
        "ax.set_xticks([])\n",
        "ax.set_yticks([])"
      ],
      "metadata": {
        "colab": {
          "base_uri": "https://localhost:8080/",
          "height": 540
        },
        "id": "BOUJ4Chpz70f",
        "outputId": "f4d7d7a6-5597-4826-95f8-8ad0900d60e9"
      },
      "execution_count": null,
      "outputs": [
        {
          "output_type": "execute_result",
          "data": {
            "text/plain": [
              "[]"
            ]
          },
          "metadata": {},
          "execution_count": 57
        },
        {
          "output_type": "display_data",
          "data": {
            "image/png": "[encoded data removed]",
            "text/plain": [
              "<Figure size 1080x1080 with 1 Axes>"
            ]
          },
          "metadata": {}
        }
      ]
    }
  ]
}